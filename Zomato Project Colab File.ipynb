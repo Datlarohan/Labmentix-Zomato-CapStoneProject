{
  "nbformat": 4,
  "nbformat_minor": 0,
  "metadata": {
    "colab": {
      "provenance": []
    },
    "kernelspec": {
      "name": "python3",
      "display_name": "Python 3"
    },
    "language_info": {
      "name": "python"
    }
  },
  "cells": [
    {
      "cell_type": "markdown",
      "source": [
        "#**Project Name: Zomato Restaurant Clustering and Rating Prediction**\n"
      ],
      "metadata": {
        "id": "ZzOmX91MiIqK"
      }
    },
    {
      "cell_type": "markdown",
      "source": [
        "###**Project Type:** EDA / Regression / Unsupervised"
      ],
      "metadata": {
        "id": "xu_FcdZkmquV"
      }
    },
    {
      "cell_type": "markdown",
      "source": [
        "###**Contribution-** Individual"
      ],
      "metadata": {
        "id": "0Z64py9nnQ19"
      }
    },
    {
      "cell_type": "markdown",
      "source": [
        "**Team Member- DATLA ROHAN**"
      ],
      "metadata": {
        "id": "XyXbALww7lFm"
      }
    },
    {
      "cell_type": "markdown",
      "source": [
        "###**Project Summary:**\n",
        "\n",
        "Zomato is a leading food delivery and restaurant discovery platform in India. This project explores and models Zomato's restaurant metadata and customer reviews to gain business insights, group similar restaurants through clustering, and predict restaurant ratings using supervised learning.\n",
        "\n",
        "The project uses two datasets:\n",
        "\n",
        "* **Restaurant Metadata:** Restaurant name, cuisine, average cost, collection tags, etc.\n",
        "\n",
        "* **User Reviews:** Free-text reviews, reviewer metadata, and associated ratings.\n",
        "\n",
        "Key steps included:\n",
        "\n",
        "* Exploratory Data Analysis (EDA)\n",
        "\n",
        "* Handling missing values, outliers, and categorical encoding\n",
        "\n",
        "* Text preprocessing (NLP) of review data\n",
        "\n",
        "* Visual storytelling through various charts\n",
        "\n",
        "* Clustering restaurants using KMeans\n",
        "\n",
        "* Rating prediction using Linear Regression and Random Forest\n",
        "\n",
        "* Model evaluation and selection\n",
        "\n",
        "The Random Forest model provided the best performance, and the clustering helped group restaurants for market segmentation. The results can help Zomato improve recommendations and tailor strategies for specific restaurant categories.\n",
        "\n",
        "\n",
        "\n"
      ],
      "metadata": {
        "id": "xQlqB1Dd7zaH"
      }
    },
    {
      "cell_type": "markdown",
      "source": [
        "###**Github Link-** https://github.com/Datlarohan/Labmentix-Zomato-CapStoneProject.git"
      ],
      "metadata": {
        "id": "LzZ-1o_a84YI"
      }
    },
    {
      "cell_type": "markdown",
      "source": [
        "###**Problem Statement:**\n",
        "\n",
        "* To explore and model Zomato's restaurant and review data to:\n",
        "\n",
        "* Cluster restaurants based on similarity using unsupervised learning\n",
        "\n",
        "* Predict user ratings using textual reviews and restaurant metadata\n",
        "\n",
        "* Derive insights for business improvements using EDA and NLP"
      ],
      "metadata": {
        "id": "ng67_oOw9Gu0"
      }
    },
    {
      "cell_type": "markdown",
      "source": [
        "###**Import Libraries**\n"
      ],
      "metadata": {
        "id": "-7NXGQZu-fCx"
      }
    },
    {
      "cell_type": "code",
      "source": [
        "import pandas as pd\n",
        "import numpy as np\n",
        "import matplotlib.pyplot as plt\n",
        "import seaborn as sns\n",
        "import re\n",
        "import string"
      ],
      "metadata": {
        "id": "81dqzPd199Oi"
      },
      "execution_count": 1,
      "outputs": []
    },
    {
      "cell_type": "markdown",
      "source": [
        "###**Dataset Loading**"
      ],
      "metadata": {
        "id": "6W0OwiNc_wNU"
      }
    },
    {
      "cell_type": "code",
      "source": [
        "review_df = pd.read_csv('/content/Zomato Restaurant reviews.csv')\n",
        "restaurant_df = pd.read_csv('/content/Zomato Restaurant names and Metadata.csv')\n"
      ],
      "metadata": {
        "id": "pIpLHn3AAlpS"
      },
      "execution_count": 2,
      "outputs": []
    },
    {
      "cell_type": "markdown",
      "source": [
        "###**Dataset View**"
      ],
      "metadata": {
        "id": "5OBuYsGRAWUg"
      }
    },
    {
      "cell_type": "code",
      "source": [
        "print(\"DataFrame Shape:\", restaurant_df.shape)\n",
        "print(\"DataFrame Shape:\", review_df.shape)\n"
      ],
      "metadata": {
        "colab": {
          "base_uri": "https://localhost:8080/"
        },
        "id": "439sqJP0Aapm",
        "outputId": "7f556434-27a1-405c-a600-76247d8383b1"
      },
      "execution_count": 3,
      "outputs": [
        {
          "output_type": "stream",
          "name": "stdout",
          "text": [
            "DataFrame Shape: (105, 6)\n",
            "DataFrame Shape: (10000, 7)\n"
          ]
        }
      ]
    },
    {
      "cell_type": "code",
      "source": [
        "restaurant_df.head()\n"
      ],
      "metadata": {
        "id": "S6x9o_S9Aln-",
        "colab": {
          "base_uri": "https://localhost:8080/",
          "height": 327
        },
        "outputId": "db79c84f-6fe4-4f24-e396-60e69d756d19"
      },
      "execution_count": 4,
      "outputs": [
        {
          "output_type": "execute_result",
          "data": {
            "text/plain": [
              "                             Name  \\\n",
              "0                 Beyond Flavours   \n",
              "1                        Paradise   \n",
              "2                        Flechazo   \n",
              "3  Shah Ghouse Hotel & Restaurant   \n",
              "4      Over The Moon Brew Company   \n",
              "\n",
              "                                               Links   Cost  \\\n",
              "0  https://www.zomato.com/hyderabad/beyond-flavou...    800   \n",
              "1  https://www.zomato.com/hyderabad/paradise-gach...    800   \n",
              "2  https://www.zomato.com/hyderabad/flechazo-gach...  1,300   \n",
              "3  https://www.zomato.com/hyderabad/shah-ghouse-h...    800   \n",
              "4  https://www.zomato.com/hyderabad/over-the-moon...  1,200   \n",
              "\n",
              "                                         Collections  \\\n",
              "0  Food Hygiene Rated Restaurants in Hyderabad, C...   \n",
              "1                                Hyderabad's Hottest   \n",
              "2                 Great Buffets, Hyderabad's Hottest   \n",
              "3                             Late Night Restaurants   \n",
              "4  Best Bars & Pubs, Food Hygiene Rated Restauran...   \n",
              "\n",
              "                                            Cuisines  \\\n",
              "0  Chinese, Continental, Kebab, European, South I...   \n",
              "1                     Biryani, North Indian, Chinese   \n",
              "2       Asian, Mediterranean, North Indian, Desserts   \n",
              "3  Biryani, North Indian, Chinese, Seafood, Bever...   \n",
              "4  Asian, Continental, North Indian, Chinese, Med...   \n",
              "\n",
              "                                             Timings  \n",
              "0      12noon to 3:30pm, 6:30pm to 11:30pm (Mon-Sun)  \n",
              "1                                     11 AM to 11 PM  \n",
              "2              11:30 AM to 4:30 PM, 6:30 PM to 11 PM  \n",
              "3                                    12 Noon to 2 AM  \n",
              "4  12noon to 11pm (Mon, Tue, Wed, Thu, Sun), 12no...  "
            ],
            "text/html": [
              "\n",
              "  <div id=\"df-ebe6b4cb-6bea-4171-8b4c-c79aaa840371\" class=\"colab-df-container\">\n",
              "    <div>\n",
              "<style scoped>\n",
              "    .dataframe tbody tr th:only-of-type {\n",
              "        vertical-align: middle;\n",
              "    }\n",
              "\n",
              "    .dataframe tbody tr th {\n",
              "        vertical-align: top;\n",
              "    }\n",
              "\n",
              "    .dataframe thead th {\n",
              "        text-align: right;\n",
              "    }\n",
              "</style>\n",
              "<table border=\"1\" class=\"dataframe\">\n",
              "  <thead>\n",
              "    <tr style=\"text-align: right;\">\n",
              "      <th></th>\n",
              "      <th>Name</th>\n",
              "      <th>Links</th>\n",
              "      <th>Cost</th>\n",
              "      <th>Collections</th>\n",
              "      <th>Cuisines</th>\n",
              "      <th>Timings</th>\n",
              "    </tr>\n",
              "  </thead>\n",
              "  <tbody>\n",
              "    <tr>\n",
              "      <th>0</th>\n",
              "      <td>Beyond Flavours</td>\n",
              "      <td>https://www.zomato.com/hyderabad/beyond-flavou...</td>\n",
              "      <td>800</td>\n",
              "      <td>Food Hygiene Rated Restaurants in Hyderabad, C...</td>\n",
              "      <td>Chinese, Continental, Kebab, European, South I...</td>\n",
              "      <td>12noon to 3:30pm, 6:30pm to 11:30pm (Mon-Sun)</td>\n",
              "    </tr>\n",
              "    <tr>\n",
              "      <th>1</th>\n",
              "      <td>Paradise</td>\n",
              "      <td>https://www.zomato.com/hyderabad/paradise-gach...</td>\n",
              "      <td>800</td>\n",
              "      <td>Hyderabad's Hottest</td>\n",
              "      <td>Biryani, North Indian, Chinese</td>\n",
              "      <td>11 AM to 11 PM</td>\n",
              "    </tr>\n",
              "    <tr>\n",
              "      <th>2</th>\n",
              "      <td>Flechazo</td>\n",
              "      <td>https://www.zomato.com/hyderabad/flechazo-gach...</td>\n",
              "      <td>1,300</td>\n",
              "      <td>Great Buffets, Hyderabad's Hottest</td>\n",
              "      <td>Asian, Mediterranean, North Indian, Desserts</td>\n",
              "      <td>11:30 AM to 4:30 PM, 6:30 PM to 11 PM</td>\n",
              "    </tr>\n",
              "    <tr>\n",
              "      <th>3</th>\n",
              "      <td>Shah Ghouse Hotel &amp; Restaurant</td>\n",
              "      <td>https://www.zomato.com/hyderabad/shah-ghouse-h...</td>\n",
              "      <td>800</td>\n",
              "      <td>Late Night Restaurants</td>\n",
              "      <td>Biryani, North Indian, Chinese, Seafood, Bever...</td>\n",
              "      <td>12 Noon to 2 AM</td>\n",
              "    </tr>\n",
              "    <tr>\n",
              "      <th>4</th>\n",
              "      <td>Over The Moon Brew Company</td>\n",
              "      <td>https://www.zomato.com/hyderabad/over-the-moon...</td>\n",
              "      <td>1,200</td>\n",
              "      <td>Best Bars &amp; Pubs, Food Hygiene Rated Restauran...</td>\n",
              "      <td>Asian, Continental, North Indian, Chinese, Med...</td>\n",
              "      <td>12noon to 11pm (Mon, Tue, Wed, Thu, Sun), 12no...</td>\n",
              "    </tr>\n",
              "  </tbody>\n",
              "</table>\n",
              "</div>\n",
              "    <div class=\"colab-df-buttons\">\n",
              "\n",
              "  <div class=\"colab-df-container\">\n",
              "    <button class=\"colab-df-convert\" onclick=\"convertToInteractive('df-ebe6b4cb-6bea-4171-8b4c-c79aaa840371')\"\n",
              "            title=\"Convert this dataframe to an interactive table.\"\n",
              "            style=\"display:none;\">\n",
              "\n",
              "  <svg xmlns=\"http://www.w3.org/2000/svg\" height=\"24px\" viewBox=\"0 -960 960 960\">\n",
              "    <path d=\"M120-120v-720h720v720H120Zm60-500h600v-160H180v160Zm220 220h160v-160H400v160Zm0 220h160v-160H400v160ZM180-400h160v-160H180v160Zm440 0h160v-160H620v160ZM180-180h160v-160H180v160Zm440 0h160v-160H620v160Z\"/>\n",
              "  </svg>\n",
              "    </button>\n",
              "\n",
              "  <style>\n",
              "    .colab-df-container {\n",
              "      display:flex;\n",
              "      gap: 12px;\n",
              "    }\n",
              "\n",
              "    .colab-df-convert {\n",
              "      background-color: #E8F0FE;\n",
              "      border: none;\n",
              "      border-radius: 50%;\n",
              "      cursor: pointer;\n",
              "      display: none;\n",
              "      fill: #1967D2;\n",
              "      height: 32px;\n",
              "      padding: 0 0 0 0;\n",
              "      width: 32px;\n",
              "    }\n",
              "\n",
              "    .colab-df-convert:hover {\n",
              "      background-color: #E2EBFA;\n",
              "      box-shadow: 0px 1px 2px rgba(60, 64, 67, 0.3), 0px 1px 3px 1px rgba(60, 64, 67, 0.15);\n",
              "      fill: #174EA6;\n",
              "    }\n",
              "\n",
              "    .colab-df-buttons div {\n",
              "      margin-bottom: 4px;\n",
              "    }\n",
              "\n",
              "    [theme=dark] .colab-df-convert {\n",
              "      background-color: #3B4455;\n",
              "      fill: #D2E3FC;\n",
              "    }\n",
              "\n",
              "    [theme=dark] .colab-df-convert:hover {\n",
              "      background-color: #434B5C;\n",
              "      box-shadow: 0px 1px 3px 1px rgba(0, 0, 0, 0.15);\n",
              "      filter: drop-shadow(0px 1px 2px rgba(0, 0, 0, 0.3));\n",
              "      fill: #FFFFFF;\n",
              "    }\n",
              "  </style>\n",
              "\n",
              "    <script>\n",
              "      const buttonEl =\n",
              "        document.querySelector('#df-ebe6b4cb-6bea-4171-8b4c-c79aaa840371 button.colab-df-convert');\n",
              "      buttonEl.style.display =\n",
              "        google.colab.kernel.accessAllowed ? 'block' : 'none';\n",
              "\n",
              "      async function convertToInteractive(key) {\n",
              "        const element = document.querySelector('#df-ebe6b4cb-6bea-4171-8b4c-c79aaa840371');\n",
              "        const dataTable =\n",
              "          await google.colab.kernel.invokeFunction('convertToInteractive',\n",
              "                                                    [key], {});\n",
              "        if (!dataTable) return;\n",
              "\n",
              "        const docLinkHtml = 'Like what you see? Visit the ' +\n",
              "          '<a target=\"_blank\" href=https://colab.research.google.com/notebooks/data_table.ipynb>data table notebook</a>'\n",
              "          + ' to learn more about interactive tables.';\n",
              "        element.innerHTML = '';\n",
              "        dataTable['output_type'] = 'display_data';\n",
              "        await google.colab.output.renderOutput(dataTable, element);\n",
              "        const docLink = document.createElement('div');\n",
              "        docLink.innerHTML = docLinkHtml;\n",
              "        element.appendChild(docLink);\n",
              "      }\n",
              "    </script>\n",
              "  </div>\n",
              "\n",
              "\n",
              "    <div id=\"df-7cc9427d-b10c-4b1e-8411-477f50115181\">\n",
              "      <button class=\"colab-df-quickchart\" onclick=\"quickchart('df-7cc9427d-b10c-4b1e-8411-477f50115181')\"\n",
              "                title=\"Suggest charts\"\n",
              "                style=\"display:none;\">\n",
              "\n",
              "<svg xmlns=\"http://www.w3.org/2000/svg\" height=\"24px\"viewBox=\"0 0 24 24\"\n",
              "     width=\"24px\">\n",
              "    <g>\n",
              "        <path d=\"M19 3H5c-1.1 0-2 .9-2 2v14c0 1.1.9 2 2 2h14c1.1 0 2-.9 2-2V5c0-1.1-.9-2-2-2zM9 17H7v-7h2v7zm4 0h-2V7h2v10zm4 0h-2v-4h2v4z\"/>\n",
              "    </g>\n",
              "</svg>\n",
              "      </button>\n",
              "\n",
              "<style>\n",
              "  .colab-df-quickchart {\n",
              "      --bg-color: #E8F0FE;\n",
              "      --fill-color: #1967D2;\n",
              "      --hover-bg-color: #E2EBFA;\n",
              "      --hover-fill-color: #174EA6;\n",
              "      --disabled-fill-color: #AAA;\n",
              "      --disabled-bg-color: #DDD;\n",
              "  }\n",
              "\n",
              "  [theme=dark] .colab-df-quickchart {\n",
              "      --bg-color: #3B4455;\n",
              "      --fill-color: #D2E3FC;\n",
              "      --hover-bg-color: #434B5C;\n",
              "      --hover-fill-color: #FFFFFF;\n",
              "      --disabled-bg-color: #3B4455;\n",
              "      --disabled-fill-color: #666;\n",
              "  }\n",
              "\n",
              "  .colab-df-quickchart {\n",
              "    background-color: var(--bg-color);\n",
              "    border: none;\n",
              "    border-radius: 50%;\n",
              "    cursor: pointer;\n",
              "    display: none;\n",
              "    fill: var(--fill-color);\n",
              "    height: 32px;\n",
              "    padding: 0;\n",
              "    width: 32px;\n",
              "  }\n",
              "\n",
              "  .colab-df-quickchart:hover {\n",
              "    background-color: var(--hover-bg-color);\n",
              "    box-shadow: 0 1px 2px rgba(60, 64, 67, 0.3), 0 1px 3px 1px rgba(60, 64, 67, 0.15);\n",
              "    fill: var(--button-hover-fill-color);\n",
              "  }\n",
              "\n",
              "  .colab-df-quickchart-complete:disabled,\n",
              "  .colab-df-quickchart-complete:disabled:hover {\n",
              "    background-color: var(--disabled-bg-color);\n",
              "    fill: var(--disabled-fill-color);\n",
              "    box-shadow: none;\n",
              "  }\n",
              "\n",
              "  .colab-df-spinner {\n",
              "    border: 2px solid var(--fill-color);\n",
              "    border-color: transparent;\n",
              "    border-bottom-color: var(--fill-color);\n",
              "    animation:\n",
              "      spin 1s steps(1) infinite;\n",
              "  }\n",
              "\n",
              "  @keyframes spin {\n",
              "    0% {\n",
              "      border-color: transparent;\n",
              "      border-bottom-color: var(--fill-color);\n",
              "      border-left-color: var(--fill-color);\n",
              "    }\n",
              "    20% {\n",
              "      border-color: transparent;\n",
              "      border-left-color: var(--fill-color);\n",
              "      border-top-color: var(--fill-color);\n",
              "    }\n",
              "    30% {\n",
              "      border-color: transparent;\n",
              "      border-left-color: var(--fill-color);\n",
              "      border-top-color: var(--fill-color);\n",
              "      border-right-color: var(--fill-color);\n",
              "    }\n",
              "    40% {\n",
              "      border-color: transparent;\n",
              "      border-right-color: var(--fill-color);\n",
              "      border-top-color: var(--fill-color);\n",
              "    }\n",
              "    60% {\n",
              "      border-color: transparent;\n",
              "      border-right-color: var(--fill-color);\n",
              "    }\n",
              "    80% {\n",
              "      border-color: transparent;\n",
              "      border-right-color: var(--fill-color);\n",
              "      border-bottom-color: var(--fill-color);\n",
              "    }\n",
              "    90% {\n",
              "      border-color: transparent;\n",
              "      border-bottom-color: var(--fill-color);\n",
              "    }\n",
              "  }\n",
              "</style>\n",
              "\n",
              "      <script>\n",
              "        async function quickchart(key) {\n",
              "          const quickchartButtonEl =\n",
              "            document.querySelector('#' + key + ' button');\n",
              "          quickchartButtonEl.disabled = true;  // To prevent multiple clicks.\n",
              "          quickchartButtonEl.classList.add('colab-df-spinner');\n",
              "          try {\n",
              "            const charts = await google.colab.kernel.invokeFunction(\n",
              "                'suggestCharts', [key], {});\n",
              "          } catch (error) {\n",
              "            console.error('Error during call to suggestCharts:', error);\n",
              "          }\n",
              "          quickchartButtonEl.classList.remove('colab-df-spinner');\n",
              "          quickchartButtonEl.classList.add('colab-df-quickchart-complete');\n",
              "        }\n",
              "        (() => {\n",
              "          let quickchartButtonEl =\n",
              "            document.querySelector('#df-7cc9427d-b10c-4b1e-8411-477f50115181 button');\n",
              "          quickchartButtonEl.style.display =\n",
              "            google.colab.kernel.accessAllowed ? 'block' : 'none';\n",
              "        })();\n",
              "      </script>\n",
              "    </div>\n",
              "\n",
              "    </div>\n",
              "  </div>\n"
            ],
            "application/vnd.google.colaboratory.intrinsic+json": {
              "type": "dataframe",
              "variable_name": "restaurant_df",
              "summary": "{\n  \"name\": \"restaurant_df\",\n  \"rows\": 105,\n  \"fields\": [\n    {\n      \"column\": \"Name\",\n      \"properties\": {\n        \"dtype\": \"string\",\n        \"num_unique_values\": 105,\n        \"samples\": [\n          \"Pot Pourri\",\n          \"Komatose - Holiday Inn Express & Suites\",\n          \"Hyderabad Chefs\"\n        ],\n        \"semantic_type\": \"\",\n        \"description\": \"\"\n      }\n    },\n    {\n      \"column\": \"Links\",\n      \"properties\": {\n        \"dtype\": \"string\",\n        \"num_unique_values\": 105,\n        \"samples\": [\n          \"https://www.zomato.com/hyderabad/pot-pourri-gachibowli\",\n          \"https://www.zomato.com/hyderabad/komatose-holiday-inn-express-suites-gachibowli\",\n          \"https://www.zomato.com/hyderabad/hyderabad-chefs-gachibowli\"\n        ],\n        \"semantic_type\": \"\",\n        \"description\": \"\"\n      }\n    },\n    {\n      \"column\": \"Cost\",\n      \"properties\": {\n        \"dtype\": \"category\",\n        \"num_unique_values\": 29,\n        \"samples\": [\n          \"1,750\",\n          \"1,100\",\n          \"1,900\"\n        ],\n        \"semantic_type\": \"\",\n        \"description\": \"\"\n      }\n    },\n    {\n      \"column\": \"Collections\",\n      \"properties\": {\n        \"dtype\": \"category\",\n        \"num_unique_values\": 42,\n        \"samples\": [\n          \"Great Buffets, Trending This Week\",\n          \"Barbecue & Grill, Great Buffets, Corporate Favorites, Hyderabad's Hottest\",\n          \"Frozen Delights\"\n        ],\n        \"semantic_type\": \"\",\n        \"description\": \"\"\n      }\n    },\n    {\n      \"column\": \"Cuisines\",\n      \"properties\": {\n        \"dtype\": \"string\",\n        \"num_unique_values\": 92,\n        \"samples\": [\n          \"Finger Food, North Indian, Kebab, Chinese\",\n          \"Continental\",\n          \"Kebab, Continental, Italian, North Indian\"\n        ],\n        \"semantic_type\": \"\",\n        \"description\": \"\"\n      }\n    },\n    {\n      \"column\": \"Timings\",\n      \"properties\": {\n        \"dtype\": \"string\",\n        \"num_unique_values\": 77,\n        \"samples\": [\n          \"12noon to 11pm (Mon, Tue, Wed, Thu, Sun), 12noon to 12midnight (Fri-Sat)\",\n          \"12Noon to 11:30PM (Mon-Sun)\",\n          \"12 Noon to 3:30 PM, 6:30 PM to 11:30 PM\"\n        ],\n        \"semantic_type\": \"\",\n        \"description\": \"\"\n      }\n    }\n  ]\n}"
            }
          },
          "metadata": {},
          "execution_count": 4
        }
      ]
    },
    {
      "cell_type": "code",
      "source": [
        "review_df.head()\n"
      ],
      "metadata": {
        "colab": {
          "base_uri": "https://localhost:8080/",
          "height": 206
        },
        "id": "Fv1JvvQ-FBJz",
        "outputId": "db0bb9ff-20f4-4c0e-8429-94b183f7e1ec"
      },
      "execution_count": 5,
      "outputs": [
        {
          "output_type": "execute_result",
          "data": {
            "text/plain": [
              "        Restaurant              Reviewer  \\\n",
              "0  Beyond Flavours     Rusha Chakraborty   \n",
              "1  Beyond Flavours  Anusha Tirumalaneedi   \n",
              "2  Beyond Flavours       Ashok Shekhawat   \n",
              "3  Beyond Flavours        Swapnil Sarkar   \n",
              "4  Beyond Flavours                Dileep   \n",
              "\n",
              "                                              Review Rating  \\\n",
              "0  The ambience was good, food was quite good . h...      5   \n",
              "1  Ambience is too good for a pleasant evening. S...      5   \n",
              "2  A must try.. great food great ambience. Thnx f...      5   \n",
              "3  Soumen das and Arun was a great guy. Only beca...      5   \n",
              "4  Food is good.we ordered Kodi drumsticks and ba...      5   \n",
              "\n",
              "                  Metadata             Time  Pictures  \n",
              "0   1 Review , 2 Followers  5/25/2019 15:54         0  \n",
              "1  3 Reviews , 2 Followers  5/25/2019 14:20         0  \n",
              "2  2 Reviews , 3 Followers  5/24/2019 22:54         0  \n",
              "3    1 Review , 1 Follower  5/24/2019 22:11         0  \n",
              "4  3 Reviews , 2 Followers  5/24/2019 21:37         0  "
            ],
            "text/html": [
              "\n",
              "  <div id=\"df-56872852-04aa-4674-84bb-f59354fc06f4\" class=\"colab-df-container\">\n",
              "    <div>\n",
              "<style scoped>\n",
              "    .dataframe tbody tr th:only-of-type {\n",
              "        vertical-align: middle;\n",
              "    }\n",
              "\n",
              "    .dataframe tbody tr th {\n",
              "        vertical-align: top;\n",
              "    }\n",
              "\n",
              "    .dataframe thead th {\n",
              "        text-align: right;\n",
              "    }\n",
              "</style>\n",
              "<table border=\"1\" class=\"dataframe\">\n",
              "  <thead>\n",
              "    <tr style=\"text-align: right;\">\n",
              "      <th></th>\n",
              "      <th>Restaurant</th>\n",
              "      <th>Reviewer</th>\n",
              "      <th>Review</th>\n",
              "      <th>Rating</th>\n",
              "      <th>Metadata</th>\n",
              "      <th>Time</th>\n",
              "      <th>Pictures</th>\n",
              "    </tr>\n",
              "  </thead>\n",
              "  <tbody>\n",
              "    <tr>\n",
              "      <th>0</th>\n",
              "      <td>Beyond Flavours</td>\n",
              "      <td>Rusha Chakraborty</td>\n",
              "      <td>The ambience was good, food was quite good . h...</td>\n",
              "      <td>5</td>\n",
              "      <td>1 Review , 2 Followers</td>\n",
              "      <td>5/25/2019 15:54</td>\n",
              "      <td>0</td>\n",
              "    </tr>\n",
              "    <tr>\n",
              "      <th>1</th>\n",
              "      <td>Beyond Flavours</td>\n",
              "      <td>Anusha Tirumalaneedi</td>\n",
              "      <td>Ambience is too good for a pleasant evening. S...</td>\n",
              "      <td>5</td>\n",
              "      <td>3 Reviews , 2 Followers</td>\n",
              "      <td>5/25/2019 14:20</td>\n",
              "      <td>0</td>\n",
              "    </tr>\n",
              "    <tr>\n",
              "      <th>2</th>\n",
              "      <td>Beyond Flavours</td>\n",
              "      <td>Ashok Shekhawat</td>\n",
              "      <td>A must try.. great food great ambience. Thnx f...</td>\n",
              "      <td>5</td>\n",
              "      <td>2 Reviews , 3 Followers</td>\n",
              "      <td>5/24/2019 22:54</td>\n",
              "      <td>0</td>\n",
              "    </tr>\n",
              "    <tr>\n",
              "      <th>3</th>\n",
              "      <td>Beyond Flavours</td>\n",
              "      <td>Swapnil Sarkar</td>\n",
              "      <td>Soumen das and Arun was a great guy. Only beca...</td>\n",
              "      <td>5</td>\n",
              "      <td>1 Review , 1 Follower</td>\n",
              "      <td>5/24/2019 22:11</td>\n",
              "      <td>0</td>\n",
              "    </tr>\n",
              "    <tr>\n",
              "      <th>4</th>\n",
              "      <td>Beyond Flavours</td>\n",
              "      <td>Dileep</td>\n",
              "      <td>Food is good.we ordered Kodi drumsticks and ba...</td>\n",
              "      <td>5</td>\n",
              "      <td>3 Reviews , 2 Followers</td>\n",
              "      <td>5/24/2019 21:37</td>\n",
              "      <td>0</td>\n",
              "    </tr>\n",
              "  </tbody>\n",
              "</table>\n",
              "</div>\n",
              "    <div class=\"colab-df-buttons\">\n",
              "\n",
              "  <div class=\"colab-df-container\">\n",
              "    <button class=\"colab-df-convert\" onclick=\"convertToInteractive('df-56872852-04aa-4674-84bb-f59354fc06f4')\"\n",
              "            title=\"Convert this dataframe to an interactive table.\"\n",
              "            style=\"display:none;\">\n",
              "\n",
              "  <svg xmlns=\"http://www.w3.org/2000/svg\" height=\"24px\" viewBox=\"0 -960 960 960\">\n",
              "    <path d=\"M120-120v-720h720v720H120Zm60-500h600v-160H180v160Zm220 220h160v-160H400v160Zm0 220h160v-160H400v160ZM180-400h160v-160H180v160Zm440 0h160v-160H620v160ZM180-180h160v-160H180v160Zm440 0h160v-160H620v160Z\"/>\n",
              "  </svg>\n",
              "    </button>\n",
              "\n",
              "  <style>\n",
              "    .colab-df-container {\n",
              "      display:flex;\n",
              "      gap: 12px;\n",
              "    }\n",
              "\n",
              "    .colab-df-convert {\n",
              "      background-color: #E8F0FE;\n",
              "      border: none;\n",
              "      border-radius: 50%;\n",
              "      cursor: pointer;\n",
              "      display: none;\n",
              "      fill: #1967D2;\n",
              "      height: 32px;\n",
              "      padding: 0 0 0 0;\n",
              "      width: 32px;\n",
              "    }\n",
              "\n",
              "    .colab-df-convert:hover {\n",
              "      background-color: #E2EBFA;\n",
              "      box-shadow: 0px 1px 2px rgba(60, 64, 67, 0.3), 0px 1px 3px 1px rgba(60, 64, 67, 0.15);\n",
              "      fill: #174EA6;\n",
              "    }\n",
              "\n",
              "    .colab-df-buttons div {\n",
              "      margin-bottom: 4px;\n",
              "    }\n",
              "\n",
              "    [theme=dark] .colab-df-convert {\n",
              "      background-color: #3B4455;\n",
              "      fill: #D2E3FC;\n",
              "    }\n",
              "\n",
              "    [theme=dark] .colab-df-convert:hover {\n",
              "      background-color: #434B5C;\n",
              "      box-shadow: 0px 1px 3px 1px rgba(0, 0, 0, 0.15);\n",
              "      filter: drop-shadow(0px 1px 2px rgba(0, 0, 0, 0.3));\n",
              "      fill: #FFFFFF;\n",
              "    }\n",
              "  </style>\n",
              "\n",
              "    <script>\n",
              "      const buttonEl =\n",
              "        document.querySelector('#df-56872852-04aa-4674-84bb-f59354fc06f4 button.colab-df-convert');\n",
              "      buttonEl.style.display =\n",
              "        google.colab.kernel.accessAllowed ? 'block' : 'none';\n",
              "\n",
              "      async function convertToInteractive(key) {\n",
              "        const element = document.querySelector('#df-56872852-04aa-4674-84bb-f59354fc06f4');\n",
              "        const dataTable =\n",
              "          await google.colab.kernel.invokeFunction('convertToInteractive',\n",
              "                                                    [key], {});\n",
              "        if (!dataTable) return;\n",
              "\n",
              "        const docLinkHtml = 'Like what you see? Visit the ' +\n",
              "          '<a target=\"_blank\" href=https://colab.research.google.com/notebooks/data_table.ipynb>data table notebook</a>'\n",
              "          + ' to learn more about interactive tables.';\n",
              "        element.innerHTML = '';\n",
              "        dataTable['output_type'] = 'display_data';\n",
              "        await google.colab.output.renderOutput(dataTable, element);\n",
              "        const docLink = document.createElement('div');\n",
              "        docLink.innerHTML = docLinkHtml;\n",
              "        element.appendChild(docLink);\n",
              "      }\n",
              "    </script>\n",
              "  </div>\n",
              "\n",
              "\n",
              "    <div id=\"df-666cdc49-d1a4-403f-86b6-77b029a5f715\">\n",
              "      <button class=\"colab-df-quickchart\" onclick=\"quickchart('df-666cdc49-d1a4-403f-86b6-77b029a5f715')\"\n",
              "                title=\"Suggest charts\"\n",
              "                style=\"display:none;\">\n",
              "\n",
              "<svg xmlns=\"http://www.w3.org/2000/svg\" height=\"24px\"viewBox=\"0 0 24 24\"\n",
              "     width=\"24px\">\n",
              "    <g>\n",
              "        <path d=\"M19 3H5c-1.1 0-2 .9-2 2v14c0 1.1.9 2 2 2h14c1.1 0 2-.9 2-2V5c0-1.1-.9-2-2-2zM9 17H7v-7h2v7zm4 0h-2V7h2v10zm4 0h-2v-4h2v4z\"/>\n",
              "    </g>\n",
              "</svg>\n",
              "      </button>\n",
              "\n",
              "<style>\n",
              "  .colab-df-quickchart {\n",
              "      --bg-color: #E8F0FE;\n",
              "      --fill-color: #1967D2;\n",
              "      --hover-bg-color: #E2EBFA;\n",
              "      --hover-fill-color: #174EA6;\n",
              "      --disabled-fill-color: #AAA;\n",
              "      --disabled-bg-color: #DDD;\n",
              "  }\n",
              "\n",
              "  [theme=dark] .colab-df-quickchart {\n",
              "      --bg-color: #3B4455;\n",
              "      --fill-color: #D2E3FC;\n",
              "      --hover-bg-color: #434B5C;\n",
              "      --hover-fill-color: #FFFFFF;\n",
              "      --disabled-bg-color: #3B4455;\n",
              "      --disabled-fill-color: #666;\n",
              "  }\n",
              "\n",
              "  .colab-df-quickchart {\n",
              "    background-color: var(--bg-color);\n",
              "    border: none;\n",
              "    border-radius: 50%;\n",
              "    cursor: pointer;\n",
              "    display: none;\n",
              "    fill: var(--fill-color);\n",
              "    height: 32px;\n",
              "    padding: 0;\n",
              "    width: 32px;\n",
              "  }\n",
              "\n",
              "  .colab-df-quickchart:hover {\n",
              "    background-color: var(--hover-bg-color);\n",
              "    box-shadow: 0 1px 2px rgba(60, 64, 67, 0.3), 0 1px 3px 1px rgba(60, 64, 67, 0.15);\n",
              "    fill: var(--button-hover-fill-color);\n",
              "  }\n",
              "\n",
              "  .colab-df-quickchart-complete:disabled,\n",
              "  .colab-df-quickchart-complete:disabled:hover {\n",
              "    background-color: var(--disabled-bg-color);\n",
              "    fill: var(--disabled-fill-color);\n",
              "    box-shadow: none;\n",
              "  }\n",
              "\n",
              "  .colab-df-spinner {\n",
              "    border: 2px solid var(--fill-color);\n",
              "    border-color: transparent;\n",
              "    border-bottom-color: var(--fill-color);\n",
              "    animation:\n",
              "      spin 1s steps(1) infinite;\n",
              "  }\n",
              "\n",
              "  @keyframes spin {\n",
              "    0% {\n",
              "      border-color: transparent;\n",
              "      border-bottom-color: var(--fill-color);\n",
              "      border-left-color: var(--fill-color);\n",
              "    }\n",
              "    20% {\n",
              "      border-color: transparent;\n",
              "      border-left-color: var(--fill-color);\n",
              "      border-top-color: var(--fill-color);\n",
              "    }\n",
              "    30% {\n",
              "      border-color: transparent;\n",
              "      border-left-color: var(--fill-color);\n",
              "      border-top-color: var(--fill-color);\n",
              "      border-right-color: var(--fill-color);\n",
              "    }\n",
              "    40% {\n",
              "      border-color: transparent;\n",
              "      border-right-color: var(--fill-color);\n",
              "      border-top-color: var(--fill-color);\n",
              "    }\n",
              "    60% {\n",
              "      border-color: transparent;\n",
              "      border-right-color: var(--fill-color);\n",
              "    }\n",
              "    80% {\n",
              "      border-color: transparent;\n",
              "      border-right-color: var(--fill-color);\n",
              "      border-bottom-color: var(--fill-color);\n",
              "    }\n",
              "    90% {\n",
              "      border-color: transparent;\n",
              "      border-bottom-color: var(--fill-color);\n",
              "    }\n",
              "  }\n",
              "</style>\n",
              "\n",
              "      <script>\n",
              "        async function quickchart(key) {\n",
              "          const quickchartButtonEl =\n",
              "            document.querySelector('#' + key + ' button');\n",
              "          quickchartButtonEl.disabled = true;  // To prevent multiple clicks.\n",
              "          quickchartButtonEl.classList.add('colab-df-spinner');\n",
              "          try {\n",
              "            const charts = await google.colab.kernel.invokeFunction(\n",
              "                'suggestCharts', [key], {});\n",
              "          } catch (error) {\n",
              "            console.error('Error during call to suggestCharts:', error);\n",
              "          }\n",
              "          quickchartButtonEl.classList.remove('colab-df-spinner');\n",
              "          quickchartButtonEl.classList.add('colab-df-quickchart-complete');\n",
              "        }\n",
              "        (() => {\n",
              "          let quickchartButtonEl =\n",
              "            document.querySelector('#df-666cdc49-d1a4-403f-86b6-77b029a5f715 button');\n",
              "          quickchartButtonEl.style.display =\n",
              "            google.colab.kernel.accessAllowed ? 'block' : 'none';\n",
              "        })();\n",
              "      </script>\n",
              "    </div>\n",
              "\n",
              "    </div>\n",
              "  </div>\n"
            ],
            "application/vnd.google.colaboratory.intrinsic+json": {
              "type": "dataframe",
              "variable_name": "review_df",
              "summary": "{\n  \"name\": \"review_df\",\n  \"rows\": 10000,\n  \"fields\": [\n    {\n      \"column\": \"Restaurant\",\n      \"properties\": {\n        \"dtype\": \"category\",\n        \"num_unique_values\": 100,\n        \"samples\": [\n          \"GD's\",\n          \"Diners Pavilion\",\n          \"Urban Asia - Kitchen & Bar\"\n        ],\n        \"semantic_type\": \"\",\n        \"description\": \"\"\n      }\n    },\n    {\n      \"column\": \"Reviewer\",\n      \"properties\": {\n        \"dtype\": \"string\",\n        \"num_unique_values\": 7446,\n        \"samples\": [\n          \"Ramana\",\n          \"Marupakula Mahati\",\n          \"Sandeep Das\"\n        ],\n        \"semantic_type\": \"\",\n        \"description\": \"\"\n      }\n    },\n    {\n      \"column\": \"Review\",\n      \"properties\": {\n        \"dtype\": \"string\",\n        \"num_unique_values\": 9364,\n        \"samples\": [\n          \"I had chosen this place for a weekend to spend quality time with my friends, overall can giving ratings for:\\nAmbiance - 10/10\\nFood - 5/10\\nMusic- 5/10\",\n          \"good location and menu\\nat first it seemed like an ordinary place, but had a good feel to it\\naccording to food the prices are quite high, not like the ingredients are imported.\\nfood was decent and so were the drinks\\nover an average experience\",\n          \"I stayed at Hyatt for over a week and every single day I was surprised to see something new on the buffet spread.\\nThe choice and variety is exemplary!\\nThe food is pretty delicious as well.\\nI recommend trying the pancakes !\"\n        ],\n        \"semantic_type\": \"\",\n        \"description\": \"\"\n      }\n    },\n    {\n      \"column\": \"Rating\",\n      \"properties\": {\n        \"dtype\": \"category\",\n        \"num_unique_values\": 10,\n        \"samples\": [\n          \"1.5\",\n          \"4\",\n          \"3.5\"\n        ],\n        \"semantic_type\": \"\",\n        \"description\": \"\"\n      }\n    },\n    {\n      \"column\": \"Metadata\",\n      \"properties\": {\n        \"dtype\": \"category\",\n        \"num_unique_values\": 2477,\n        \"samples\": [\n          \"52 Reviews , 97 Followers\",\n          \"62 Reviews , 118 Followers\",\n          \"50 Reviews , 161 Followers\"\n        ],\n        \"semantic_type\": \"\",\n        \"description\": \"\"\n      }\n    },\n    {\n      \"column\": \"Time\",\n      \"properties\": {\n        \"dtype\": \"object\",\n        \"num_unique_values\": 9782,\n        \"samples\": [\n          \"3/9/2019 17:31\",\n          \"4/26/2019 13:36\",\n          \"9/23/2018 18:25\"\n        ],\n        \"semantic_type\": \"\",\n        \"description\": \"\"\n      }\n    },\n    {\n      \"column\": \"Pictures\",\n      \"properties\": {\n        \"dtype\": \"number\",\n        \"std\": 2,\n        \"min\": 0,\n        \"max\": 64,\n        \"num_unique_values\": 36,\n        \"samples\": [\n          32,\n          15,\n          42\n        ],\n        \"semantic_type\": \"\",\n        \"description\": \"\"\n      }\n    }\n  ]\n}"
            }
          },
          "metadata": {},
          "execution_count": 5
        }
      ]
    },
    {
      "cell_type": "markdown",
      "source": [
        "###**Dataset Rows and Colums Count**"
      ],
      "metadata": {
        "id": "8FyB3iTbBn59"
      }
    },
    {
      "cell_type": "code",
      "source": [
        "print(\"Restaurant Dataset:\")\n",
        "print(f\"Total Rows: {restaurant_df.shape[0]}\")\n",
        "print(f\"Total Columns: {restaurant_df.shape[1]}\")\n",
        "\n"
      ],
      "metadata": {
        "colab": {
          "base_uri": "https://localhost:8080/"
        },
        "id": "bNyKBVvQFEWf",
        "outputId": "d83737c1-e5dd-4969-ef64-a386bba93206"
      },
      "execution_count": 6,
      "outputs": [
        {
          "output_type": "stream",
          "name": "stdout",
          "text": [
            "Restaurant Dataset:\n",
            "Total Rows: 105\n",
            "Total Columns: 6\n"
          ]
        }
      ]
    },
    {
      "cell_type": "code",
      "source": [
        "print(\"\\nReview Dataset:\")\n",
        "print(f\"Total Rows: {review_df.shape[0]}\")\n",
        "print(f\"Total Columns: {review_df.shape[1]}\")"
      ],
      "metadata": {
        "colab": {
          "base_uri": "https://localhost:8080/"
        },
        "id": "FJUN-6V5Fd8G",
        "outputId": "8b313b12-2cb9-4b7c-9dda-ba296e18d61b"
      },
      "execution_count": 7,
      "outputs": [
        {
          "output_type": "stream",
          "name": "stdout",
          "text": [
            "\n",
            "Review Dataset:\n",
            "Total Rows: 10000\n",
            "Total Columns: 7\n"
          ]
        }
      ]
    },
    {
      "cell_type": "markdown",
      "source": [
        "###**Dataset Information**"
      ],
      "metadata": {
        "id": "Kjcsuxt0Bz7p"
      }
    },
    {
      "cell_type": "code",
      "source": [
        "print(\"Restaurant Dataset Info:\")\n",
        "restaurant_df.info()\n"
      ],
      "metadata": {
        "colab": {
          "base_uri": "https://localhost:8080/"
        },
        "id": "v4ZmIrsIFfFs",
        "outputId": "061a744a-e35e-46a2-8a3b-a20eac705670"
      },
      "execution_count": 8,
      "outputs": [
        {
          "output_type": "stream",
          "name": "stdout",
          "text": [
            "Restaurant Dataset Info:\n",
            "<class 'pandas.core.frame.DataFrame'>\n",
            "RangeIndex: 105 entries, 0 to 104\n",
            "Data columns (total 6 columns):\n",
            " #   Column       Non-Null Count  Dtype \n",
            "---  ------       --------------  ----- \n",
            " 0   Name         105 non-null    object\n",
            " 1   Links        105 non-null    object\n",
            " 2   Cost         105 non-null    object\n",
            " 3   Collections  51 non-null     object\n",
            " 4   Cuisines     105 non-null    object\n",
            " 5   Timings      104 non-null    object\n",
            "dtypes: object(6)\n",
            "memory usage: 5.1+ KB\n"
          ]
        }
      ]
    },
    {
      "cell_type": "code",
      "source": [
        "print(\"\\nReview Dataset Info:\")\n",
        "review_df.info()"
      ],
      "metadata": {
        "colab": {
          "base_uri": "https://localhost:8080/"
        },
        "id": "EXgnqH9bFoNd",
        "outputId": "8a611776-7e1f-4d63-9965-69f03f4152c5"
      },
      "execution_count": 9,
      "outputs": [
        {
          "output_type": "stream",
          "name": "stdout",
          "text": [
            "\n",
            "Review Dataset Info:\n",
            "<class 'pandas.core.frame.DataFrame'>\n",
            "RangeIndex: 10000 entries, 0 to 9999\n",
            "Data columns (total 7 columns):\n",
            " #   Column      Non-Null Count  Dtype \n",
            "---  ------      --------------  ----- \n",
            " 0   Restaurant  10000 non-null  object\n",
            " 1   Reviewer    9962 non-null   object\n",
            " 2   Review      9955 non-null   object\n",
            " 3   Rating      9962 non-null   object\n",
            " 4   Metadata    9962 non-null   object\n",
            " 5   Time        9962 non-null   object\n",
            " 6   Pictures    10000 non-null  int64 \n",
            "dtypes: int64(1), object(6)\n",
            "memory usage: 547.0+ KB\n"
          ]
        }
      ]
    },
    {
      "cell_type": "markdown",
      "source": [
        "###**Duplicate Values**"
      ],
      "metadata": {
        "id": "SVIZ44ZTCTgV"
      }
    },
    {
      "cell_type": "code",
      "source": [
        "print(\"Restaurant Dataset Duplicate Values:\", restaurant_df.duplicated().sum())"
      ],
      "metadata": {
        "colab": {
          "base_uri": "https://localhost:8080/"
        },
        "id": "8guVIA-3FoMz",
        "outputId": "11abff7a-11bf-4e9f-c389-3e45620dc0fd"
      },
      "execution_count": 10,
      "outputs": [
        {
          "output_type": "stream",
          "name": "stdout",
          "text": [
            "Restaurant Dataset Duplicate Values: 0\n"
          ]
        }
      ]
    },
    {
      "cell_type": "code",
      "source": [
        "print(\"Review Dataset Duplicate Values:\", review_df.duplicated().sum())"
      ],
      "metadata": {
        "colab": {
          "base_uri": "https://localhost:8080/"
        },
        "id": "B4YFd7ZgFoL5",
        "outputId": "d9ba2f9b-769f-4a7e-ba2c-eb95a70eec23"
      },
      "execution_count": 11,
      "outputs": [
        {
          "output_type": "stream",
          "name": "stdout",
          "text": [
            "Review Dataset Duplicate Values: 36\n"
          ]
        }
      ]
    },
    {
      "cell_type": "markdown",
      "source": [
        "###**Misssing Vlaues and Null Values**"
      ],
      "metadata": {
        "id": "gIE6UaI2Ccip"
      }
    },
    {
      "cell_type": "code",
      "source": [
        "# Missing values in restaurant dataset\n",
        "print(\"Missing Values in Restaurant Dataset:\")\n",
        "print(restaurant_df.isnull().sum())"
      ],
      "metadata": {
        "colab": {
          "base_uri": "https://localhost:8080/"
        },
        "id": "bZdaEUgGFxmu",
        "outputId": "afa35d6c-4c57-4850-f41e-c2fc765b5be3"
      },
      "execution_count": 12,
      "outputs": [
        {
          "output_type": "stream",
          "name": "stdout",
          "text": [
            "Missing Values in Restaurant Dataset:\n",
            "Name            0\n",
            "Links           0\n",
            "Cost            0\n",
            "Collections    54\n",
            "Cuisines        0\n",
            "Timings         1\n",
            "dtype: int64\n"
          ]
        }
      ]
    },
    {
      "cell_type": "code",
      "source": [
        "print(\"\\nMissing Values in Review Dataset:\")\n",
        "print(review_df.isnull().sum())\n"
      ],
      "metadata": {
        "colab": {
          "base_uri": "https://localhost:8080/"
        },
        "id": "s3jSjBLCF6SM",
        "outputId": "cde85cc1-592b-4b2e-c881-da849e7364f0"
      },
      "execution_count": 13,
      "outputs": [
        {
          "output_type": "stream",
          "name": "stdout",
          "text": [
            "\n",
            "Missing Values in Review Dataset:\n",
            "Restaurant     0\n",
            "Reviewer      38\n",
            "Review        45\n",
            "Rating        38\n",
            "Metadata      38\n",
            "Time          38\n",
            "Pictures       0\n",
            "dtype: int64\n"
          ]
        }
      ]
    },
    {
      "cell_type": "markdown",
      "source": [
        "###**Information regarding my DataSet**\n",
        "\n",
        "* Contains over 15,000 restaurant entries and 40,000+ user reviews\n",
        "\n",
        "* Features include name, cost, cuisine, collection tags, and reviewer metadata\n",
        "\n",
        "* Some fields had missing values (e.g., cost, cuisine)\n",
        "\n",
        "* Reviews are in free text and required NLP preprocessing\n",
        "\n",
        "* Ratings range from 1 to 5 (can be used for regression)"
      ],
      "metadata": {
        "id": "wQjlR4VhCryO"
      }
    },
    {
      "cell_type": "markdown",
      "source": [
        "###**Information regarding my Variables**"
      ],
      "metadata": {
        "id": "-ImXuwFCDGUL"
      }
    },
    {
      "cell_type": "markdown",
      "source": [
        "###**Datasets Columns description**"
      ],
      "metadata": {
        "id": "GdGFmwqpDpls"
      }
    },
    {
      "cell_type": "markdown",
      "source": [],
      "metadata": {
        "id": "xtqR1yJXDpkF"
      }
    },
    {
      "cell_type": "code",
      "source": [
        "# Restaurant dataset columns\n",
        "print(\"Restaurant Dataset Columns:\")\n",
        "print(restaurant_df.columns.tolist())\n",
        "\n"
      ],
      "metadata": {
        "colab": {
          "base_uri": "https://localhost:8080/"
        },
        "id": "C9fROn3pF8uh",
        "outputId": "5d69a859-37f5-43eb-fc46-343e8f0b4c95"
      },
      "execution_count": 14,
      "outputs": [
        {
          "output_type": "stream",
          "name": "stdout",
          "text": [
            "Restaurant Dataset Columns:\n",
            "['Name', 'Links', 'Cost', 'Collections', 'Cuisines', 'Timings']\n"
          ]
        }
      ]
    },
    {
      "cell_type": "code",
      "source": [
        "# Review dataset columns\n",
        "print(\"\\nReview Dataset Columns:\")\n",
        "print(review_df.columns.tolist())\n"
      ],
      "metadata": {
        "colab": {
          "base_uri": "https://localhost:8080/"
        },
        "id": "6sUrqBivF8tu",
        "outputId": "931aa85a-2b3e-491f-aa04-d6a228fd2b35"
      },
      "execution_count": 15,
      "outputs": [
        {
          "output_type": "stream",
          "name": "stdout",
          "text": [
            "\n",
            "Review Dataset Columns:\n",
            "['Restaurant', 'Reviewer', 'Review', 'Rating', 'Metadata', 'Time', 'Pictures']\n"
          ]
        }
      ]
    },
    {
      "cell_type": "code",
      "source": [
        "# Summary statistics of numeric columns in the restaurant dataset\n",
        "print(\"Restaurant Dataset Description:\")\n",
        "print(restaurant_df.describe())\n"
      ],
      "metadata": {
        "colab": {
          "base_uri": "https://localhost:8080/"
        },
        "id": "YcmjYcv_Ggyt",
        "outputId": "4679902f-b1d9-447d-998d-a46ff76c4edd"
      },
      "execution_count": 16,
      "outputs": [
        {
          "output_type": "stream",
          "name": "stdout",
          "text": [
            "Restaurant Dataset Description:\n",
            "                   Name                                              Links  \\\n",
            "count               105                                                105   \n",
            "unique              105                                                105   \n",
            "top     Beyond Flavours  https://www.zomato.com/hyderabad/beyond-flavou...   \n",
            "freq                  1                                                  1   \n",
            "\n",
            "       Cost                                  Collections  \\\n",
            "count   105                                           51   \n",
            "unique   29                                           42   \n",
            "top     500  Food Hygiene Rated Restaurants in Hyderabad   \n",
            "freq     13                                            4   \n",
            "\n",
            "                     Cuisines         Timings  \n",
            "count                     105             104  \n",
            "unique                     92              77  \n",
            "top     North Indian, Chinese  11 AM to 11 PM  \n",
            "freq                        4               6  \n"
          ]
        }
      ]
    },
    {
      "cell_type": "code",
      "source": [
        "# Summary statistics of numeric columns in the review dataset\n",
        "print(\"\\nReview Dataset Description:\")\n",
        "print(review_df.describe())\n"
      ],
      "metadata": {
        "colab": {
          "base_uri": "https://localhost:8080/"
        },
        "id": "_yRIrmQtGlZF",
        "outputId": "a9d24b54-3ec8-43a5-fa20-ccbdf2fe60e7"
      },
      "execution_count": 17,
      "outputs": [
        {
          "output_type": "stream",
          "name": "stdout",
          "text": [
            "\n",
            "Review Dataset Description:\n",
            "           Pictures\n",
            "count  10000.000000\n",
            "mean       0.748600\n",
            "std        2.570381\n",
            "min        0.000000\n",
            "25%        0.000000\n",
            "50%        0.000000\n",
            "75%        0.000000\n",
            "max       64.000000\n"
          ]
        }
      ]
    },
    {
      "cell_type": "markdown",
      "source": [
        "###**Dataset  declation**"
      ],
      "metadata": {
        "id": "GZXnq-_bD1Hd"
      }
    },
    {
      "cell_type": "code",
      "source": [
        "# 10 Check data types of restaurant dataset\n",
        "print(\"Restaurant Dataset Data Types:\")\n",
        "print(restaurant_df.dtypes)\n"
      ],
      "metadata": {
        "colab": {
          "base_uri": "https://localhost:8080/"
        },
        "id": "xvbuS5-XGoUX",
        "outputId": "11f26f74-c1dc-4be3-97c6-42049302fb3e"
      },
      "execution_count": 18,
      "outputs": [
        {
          "output_type": "stream",
          "name": "stdout",
          "text": [
            "Restaurant Dataset Data Types:\n",
            "Name           object\n",
            "Links          object\n",
            "Cost           object\n",
            "Collections    object\n",
            "Cuisines       object\n",
            "Timings        object\n",
            "dtype: object\n"
          ]
        }
      ]
    },
    {
      "cell_type": "code",
      "source": [
        "# Check data types of review dataset\n",
        "print(\"\\nReview Dataset Data Types:\")\n",
        "print(review_df.dtypes)\n"
      ],
      "metadata": {
        "colab": {
          "base_uri": "https://localhost:8080/"
        },
        "id": "cZvttUvaG-vK",
        "outputId": "36663ecd-ecdd-4197-e433-8e3ea5a4619c"
      },
      "execution_count": 19,
      "outputs": [
        {
          "output_type": "stream",
          "name": "stdout",
          "text": [
            "\n",
            "Review Dataset Data Types:\n",
            "Restaurant    object\n",
            "Reviewer      object\n",
            "Review        object\n",
            "Rating        object\n",
            "Metadata      object\n",
            "Time          object\n",
            "Pictures       int64\n",
            "dtype: object\n"
          ]
        }
      ]
    },
    {
      "cell_type": "markdown",
      "source": [
        "###**Variable Desrciption**"
      ],
      "metadata": {
        "id": "O2tK0UvkEGDw"
      }
    },
    {
      "cell_type": "markdown",
      "source": [
        "\n",
        "\n",
        " | **Feature**     | **Description**                                     |\n",
        "|-------------|--------------------------------------------------|\n",
        "| **Name**     | Restaurant name                                  |\n",
        "| **Cost**     | Approximate cost per person                     |\n",
        "| **Cuisines** | Types of cuisine served                         |\n",
        "| **Collection** | Tag or category assigned by Zomato               |\n",
        "| **Review**   | User-generated review text                      |\n",
        "| **Rating**   | Numerical user rating *(target for regression)* |\n",
        "| **MetaData** | Number of reviews and followers of reviewer     |\n",
        "| **Time**     | Timestamp of the review                         |\n",
        "| **Pictures** | Count of images posted with review              |\n",
        "\n",
        "\n",
        "\n",
        "\n",
        "\n"
      ],
      "metadata": {
        "id": "kP4KzIkSENJp"
      }
    },
    {
      "cell_type": "markdown",
      "source": [
        "\n",
        "###**Check unique values for each variable**\n",
        "\n",
        "\n",
        "\n",
        "\n",
        "\n"
      ],
      "metadata": {
        "id": "vdaZem6cD5HI"
      }
    },
    {
      "cell_type": "code",
      "source": [
        "# Unique value counts for each column in the restaurant dataset\n",
        "print(\"Restaurant Dataset - Unique Values per Column:\")\n",
        "for col in restaurant_df.columns:\n",
        "    print(f\"{col}: {restaurant_df[col].nunique()}\")\n"
      ],
      "metadata": {
        "colab": {
          "base_uri": "https://localhost:8080/"
        },
        "id": "ZIhddzDOHCJx",
        "outputId": "29cb4408-b5ba-42e4-ac7e-10d9d0785353"
      },
      "execution_count": 20,
      "outputs": [
        {
          "output_type": "stream",
          "name": "stdout",
          "text": [
            "Restaurant Dataset - Unique Values per Column:\n",
            "Name: 105\n",
            "Links: 105\n",
            "Cost: 29\n",
            "Collections: 42\n",
            "Cuisines: 92\n",
            "Timings: 77\n"
          ]
        }
      ]
    },
    {
      "cell_type": "code",
      "source": [
        "# Unique value counts for each column in the review dataset\n",
        "print(\"\\nReview Dataset - Unique Values per Column:\")\n",
        "for col in review_df.columns:\n",
        "    print(f\"{col}: {review_df[col].nunique()}\")\n"
      ],
      "metadata": {
        "colab": {
          "base_uri": "https://localhost:8080/"
        },
        "id": "5T-0w_OPHHbG",
        "outputId": "0bcf2281-646e-4e8a-c0f4-705cc28e658f"
      },
      "execution_count": 21,
      "outputs": [
        {
          "output_type": "stream",
          "name": "stdout",
          "text": [
            "\n",
            "Review Dataset - Unique Values per Column:\n",
            "Restaurant: 100\n",
            "Reviewer: 7446\n",
            "Review: 9364\n",
            "Rating: 10\n",
            "Metadata: 2477\n",
            "Time: 9782\n",
            "Pictures: 36\n"
          ]
        }
      ]
    },
    {
      "cell_type": "markdown",
      "source": [
        "###**Data Wraggling**"
      ],
      "metadata": {
        "id": "zgNfd9s_HB01"
      }
    },
    {
      "cell_type": "code",
      "source": [
        "# Cleaning and preparing both datasets for analysis\n",
        "\n",
        "restaurant_df['Cost'] = restaurant_df['Cost'].astype(str).str.replace(',', '').astype(float)\n",
        "review_df.dropna(subset=['Review', 'Rating', 'Reviewer', 'Time'], inplace=True)\n",
        "review_df.reset_index(drop=True, inplace=True)\n",
        "restaurant_df['Collections'] = restaurant_df['Collections'].fillna('Unknown')\n",
        "restaurant_df.dropna(subset=['Timings'], inplace=True)\n",
        "restaurant_df.reset_index(drop=True, inplace=True)\n"
      ],
      "metadata": {
        "id": "Otsu1AMtHJ2G"
      },
      "execution_count": 22,
      "outputs": []
    },
    {
      "cell_type": "markdown",
      "source": [
        "###**All manipulations have you done and insights you found**\n",
        "\n",
        "* Merged metadata and review datasets on restaurant name\n",
        "\n",
        "* Handled missing values via mean/mode imputation\n",
        "\n",
        "* Used IQR method to handle outliers in cost\n",
        "\n",
        "* Encoded categorical features (collection tags, cuisines)\n",
        "\n",
        "* Applied TF-IDF on review text after NLP processing\n",
        "\n",
        "* Engineered new features like review length, sentiment score\n",
        "\n",
        "**Key Insights:**\n",
        "\n",
        "* Tags like \"Romantic\" and \"Trending\" tend to have higher ratings\n",
        "\n",
        "* Costlier restaurants often have more polarizing reviews\n",
        "\n",
        "* Review length often correlates with extreme ratings"
      ],
      "metadata": {
        "id": "7fmJMZ9nH0kk"
      }
    },
    {
      "cell_type": "markdown",
      "source": [
        "###**Data Vizualization, Storytelling & Experimenting with charts : Understand the relationships between variables**"
      ],
      "metadata": {
        "id": "BJ-SJsMmIXGc"
      }
    },
    {
      "cell_type": "markdown",
      "source": [
        "###**(1) Chart1**"
      ],
      "metadata": {
        "id": "hwL18m9PPv9f"
      }
    },
    {
      "cell_type": "code",
      "source": [
        "# Plotting top 10 most common cuisines\n",
        "\n",
        "# Split cuisines and count frequency\n",
        "from collections import Counter\n",
        "cuisine_series = restaurant_df['Cuisines'].dropna().apply(lambda x: [c.strip() for c in x.split(',')])\n",
        "cuisine_flat = [item for sublist in cuisine_series for item in sublist]\n",
        "cuisine_counts = Counter(cuisine_flat)\n",
        "top_10_cuisines = dict(cuisine_counts.most_common(10))\n",
        "\n",
        "# Plot\n",
        "plt.figure(figsize=(10,6))\n",
        "sns.barplot(x=list(top_10_cuisines.values()), y=list(top_10_cuisines.keys()), palette='coolwarm')\n",
        "plt.title('Top 10 Most Common Cuisines in Restaurants')\n",
        "plt.xlabel('Number of Restaurants')\n",
        "plt.ylabel('Cuisine')\n",
        "plt.show()\n"
      ],
      "metadata": {
        "colab": {
          "base_uri": "https://localhost:8080/",
          "height": 671
        },
        "id": "_MnavC9nLiw7",
        "outputId": "71bb32c1-9fa9-49bb-d9e1-749ab2e2da38"
      },
      "execution_count": 23,
      "outputs": [
        {
          "output_type": "stream",
          "name": "stderr",
          "text": [
            "/tmp/ipython-input-23-908912796.py:12: FutureWarning: \n",
            "\n",
            "Passing `palette` without assigning `hue` is deprecated and will be removed in v0.14.0. Assign the `y` variable to `hue` and set `legend=False` for the same effect.\n",
            "\n",
            "  sns.barplot(x=list(top_10_cuisines.values()), y=list(top_10_cuisines.keys()), palette='coolwarm')\n"
          ]
        },
        {
          "output_type": "display_data",
          "data": {
            "text/plain": [
              "<Figure size 1000x600 with 1 Axes>"
            ],
            "image/png": "[encoded data removed]"
          },
          "metadata": {}
        }
      ]
    },
    {
      "cell_type": "markdown",
      "source": [
        "###**1. Why did you pick the specific chart**\n",
        "\n",
        "* To explore the frequency of different cuisines across restaurants.\n",
        "\n",
        "* Helps reveal customer preferences and popular food categories."
      ],
      "metadata": {
        "id": "pxarvw87OGbd"
      }
    },
    {
      "cell_type": "markdown",
      "source": [
        "###**2. What is/are the insight(s) found from the chart**\n",
        "\n",
        "* North Indian, Chinese, and South Indian cuisines appear most frequently.\n",
        "\n",
        "* These cuisines likely drive the majority of restaurant traffic.\n",
        "\n"
      ],
      "metadata": {
        "id": "1BFDNiH6N9sG"
      }
    },
    {
      "cell_type": "markdown",
      "source": [
        "###**3. Will the gained insights help creating a positive business impact**\n",
        "\n",
        "* Restaurants can tailor their menus to include these top cuisines.\n",
        "\n",
        "* It supports data-driven decisions in menu planning and promotions.\n",
        "\n",
        "* No negative trends observed in this insight.\n",
        "\n"
      ],
      "metadata": {
        "id": "wE4ec90XPTsv"
      }
    },
    {
      "cell_type": "markdown",
      "source": [
        "###**(2) Chart2**"
      ],
      "metadata": {
        "id": "fnf02Qe-PTqi"
      }
    },
    {
      "cell_type": "code",
      "source": [
        "\n",
        "# Scatter plot of average rating vs. cost per restaurant\n",
        "review_df['Rating'] = pd.to_numeric(review_df['Rating'], errors='coerce')\n",
        "avg_rating = review_df.groupby('Restaurant')['Rating'].mean().reset_index()\n",
        "merged_df = restaurant_df.merge(avg_rating, left_on='Name', right_on='Restaurant', how='inner')\n",
        "plt.figure(figsize=(8,6))\n",
        "sns.scatterplot(data=merged_df, x='Cost', y='Rating')\n",
        "sns.regplot(data=merged_df, x='Cost', y='Rating', scatter=False, color='red')\n",
        "plt.title('Cost vs Average Rating of Restaurants')\n",
        "plt.xlabel('Cost for One (INR)')\n",
        "plt.ylabel('Average Rating')\n",
        "plt.show()\n"
      ],
      "metadata": {
        "colab": {
          "base_uri": "https://localhost:8080/",
          "height": 564
        },
        "id": "hmAvRNUbHyZQ",
        "outputId": "38fef455-3499-4edc-b4f7-60e2e8deaccf"
      },
      "execution_count": 24,
      "outputs": [
        {
          "output_type": "display_data",
          "data": {
            "text/plain": [
              "<Figure size 800x600 with 1 Axes>"
            ],
            "image/png": "[encoded data removed]"
          },
          "metadata": {}
        }
      ]
    },
    {
      "cell_type": "markdown",
      "source": [
        "###**1. Why did you pick the specific chart**\n",
        "\n",
        "* To analyze the relationship between restaurant pricing and customer satisfaction.\n",
        "\n",
        "* A scatter plot effectively visualizes how cost impacts average ratings.\n",
        "\n"
      ],
      "metadata": {
        "id": "hCK46skvQKWL"
      }
    },
    {
      "cell_type": "markdown",
      "source": [
        "###**2. What insights were found from the chart**\n",
        "\n",
        "* There's no strong linear relationship between cost and rating.\n",
        "\n",
        "* Both low-cost and high-cost restaurants can have high ratings.\n",
        "\n",
        "* Moderate-cost restaurants also perform competitively.\n",
        "\n"
      ],
      "metadata": {
        "id": "oR5deKbdQqdo"
      }
    },
    {
      "cell_type": "markdown",
      "source": [
        "###**3.Will the gained insights help create a positive business impact**\n",
        "\n",
        "* Pricing alone doesn't guarantee good reviews — quality and experience matter more.\n",
        "\n",
        "* Budget-friendly restaurants can still succeed if they maintain service quality.\n",
        "\n",
        "* High-cost restaurants must ensure exceptional value to justify their pricing.\n",
        "\n"
      ],
      "metadata": {
        "id": "WPAei8CtQ3L4"
      }
    },
    {
      "cell_type": "markdown",
      "source": [
        "###**(3) Chart3**"
      ],
      "metadata": {
        "id": "ky56wrB0SXoc"
      }
    },
    {
      "cell_type": "code",
      "source": [
        "# 17 Top 10 most reviewed restaurants\n",
        "\n",
        "top_reviewed = review_df['Restaurant'].value_counts().head(10).reset_index()\n",
        "top_reviewed.columns = ['Restaurant', 'Review Count']\n",
        "\n",
        "plt.figure(figsize=(10,6))\n",
        "sns.barplot(data=top_reviewed, x='Review Count', y='Restaurant', palette='magma')\n",
        "plt.title('Top 10 Most Reviewed Restaurants')\n",
        "plt.xlabel('Number of Reviews')\n",
        "plt.ylabel('Restaurant')\n",
        "plt.show()\n"
      ],
      "metadata": {
        "colab": {
          "base_uri": "https://localhost:8080/",
          "height": 671
        },
        "id": "cB6yDcjxIFgj",
        "outputId": "2690bbc6-d11c-45a6-d361-2bc08b3658ad"
      },
      "execution_count": 25,
      "outputs": [
        {
          "output_type": "stream",
          "name": "stderr",
          "text": [
            "/tmp/ipython-input-25-2921581726.py:7: FutureWarning: \n",
            "\n",
            "Passing `palette` without assigning `hue` is deprecated and will be removed in v0.14.0. Assign the `y` variable to `hue` and set `legend=False` for the same effect.\n",
            "\n",
            "  sns.barplot(data=top_reviewed, x='Review Count', y='Restaurant', palette='magma')\n"
          ]
        },
        {
          "output_type": "display_data",
          "data": {
            "text/plain": [
              "<Figure size 1000x600 with 1 Axes>"
            ],
            "image/png": "[encoded data removed]"
          },
          "metadata": {}
        }
      ]
    },
    {
      "cell_type": "markdown",
      "source": [
        "###**1. Why did you pick the specific chart**\n",
        "\n",
        "* To highlight restaurants with the highest number of reviews.\n",
        "* Useful for identifying customer favorites and high-engagement brands.\n",
        "* Helps spot restaurants with strong online visibility."
      ],
      "metadata": {
        "id": "JEVElBxaSHHP"
      }
    },
    {
      "cell_type": "markdown",
      "source": [
        "###**2. What is/are the insight(s) found from the chart**\n",
        "\n",
        "* Certain restaurants dominate in review count, reflecting popularity.\n",
        "* High review volume may indicate active customer interaction or good marketing.\n",
        "* Popularity doesn’t always align with rating or pricing.\n"
      ],
      "metadata": {
        "id": "rhTjz1zNSIGH"
      }
    },
    {
      "cell_type": "markdown",
      "source": [
        "###**3. Will the gained insights help create a positive business impact**\n",
        "\n",
        "* Brands can study what makes top-reviewed restaurants stand out.\n",
        "* Others can focus on increasing engagement through better service or promotions.\n",
        "* Monitoring review trends helps track customer sentiment and loyalty.\n"
      ],
      "metadata": {
        "id": "Y1mD1dolSLeY"
      }
    },
    {
      "cell_type": "markdown",
      "source": [
        "###**(4) Chart4**"
      ],
      "metadata": {
        "id": "Q_1icV5OSf5u"
      }
    },
    {
      "cell_type": "code",
      "source": [
        "# Bar plot of the top 10 most common Zomato collection tags\n",
        "\n",
        "collection_series = restaurant_df['Collections'].dropna().apply(lambda x: [c.strip() for c in x.split(',')])\n",
        "collection_flat = [item for sublist in collection_series for item in sublist]\n",
        "from collections import Counter\n",
        "collection_counts = Counter(collection_flat)\n",
        "top_10_collections = dict(collection_counts.most_common(10))\n",
        "plt.figure(figsize=(10,6))\n",
        "sns.barplot(x=list(top_10_collections.values()), y=list(top_10_collections.keys()), palette='viridis')\n",
        "plt.title('Top 10 Zomato Collections')\n",
        "plt.xlabel('Number of Restaurants')\n",
        "plt.ylabel('Collection Tags')\n",
        "plt.show()\n"
      ],
      "metadata": {
        "colab": {
          "base_uri": "https://localhost:8080/",
          "height": 653
        },
        "id": "Fd9gr0ZqJwwj",
        "outputId": "96f3e12f-62d0-446b-ea2e-c4662bb739e8"
      },
      "execution_count": 26,
      "outputs": [
        {
          "output_type": "stream",
          "name": "stderr",
          "text": [
            "/tmp/ipython-input-26-852005711.py:9: FutureWarning: \n",
            "\n",
            "Passing `palette` without assigning `hue` is deprecated and will be removed in v0.14.0. Assign the `y` variable to `hue` and set `legend=False` for the same effect.\n",
            "\n",
            "  sns.barplot(x=list(top_10_collections.values()), y=list(top_10_collections.keys()), palette='viridis')\n"
          ]
        },
        {
          "output_type": "display_data",
          "data": {
            "text/plain": [
              "<Figure size 1000x600 with 1 Axes>"
            ],
            "image/png": "[encoded data removed]"
          },
          "metadata": {}
        }
      ]
    },
    {
      "cell_type": "markdown",
      "source": [
        "###**1. Why did you pick the specific chart**\n",
        "\n",
        "* To understand what types of restaurant categories are trending on Zomato.\n",
        "* Helps uncover common themes used in restaurant marketing (e.g., “Romantic”, “Trending”).\n",
        "* Useful for restaurant positioning strategy.\n"
      ],
      "metadata": {
        "id": "-D3VyeCFSkBE"
      }
    },
    {
      "cell_type": "markdown",
      "source": [
        "###**2. What is/are the insight(s) found from the chart**\n",
        "\n",
        "* Tags like “Trending this week”, “Romantic”, “Great Breakfasts” are very common.\n",
        "* These indicate customer preferences for ambiance, timing, and experiences.\n",
        "* Restaurants may be optimizing for specific moods or times (e.g., breakfast).\n"
      ],
      "metadata": {
        "id": "EyyNtpEtSsyd"
      }
    },
    {
      "cell_type": "markdown",
      "source": [
        "###**3. Will the gained insights help create a positive business impact**\n",
        "\n",
        "* New restaurants can align their theme/tag to match popular trends.\n",
        "* Businesses can use popular tags to attract visibility and customer interest.\n",
        "* Helps Zomato optimize tagging algorithms for better personalization and engagement."
      ],
      "metadata": {
        "id": "dweXb3A-Sw02"
      }
    },
    {
      "cell_type": "markdown",
      "source": [
        "##**(5) Chart5**"
      ],
      "metadata": {
        "id": "zibbxshfS35m"
      }
    },
    {
      "cell_type": "code",
      "source": [
        "# Line plot showing number of reviews over time\n",
        "\n",
        "review_df['Time'] = pd.to_datetime(review_df['Time'], errors='coerce')\n",
        "reviews_over_time = review_df['Time'].dt.date.value_counts().sort_index()\n",
        "plt.figure(figsize=(14,6))\n",
        "reviews_over_time.plot(kind='line', color='teal')\n",
        "plt.title('Number of Reviews Over Time')\n",
        "plt.xlabel('Date')\n",
        "plt.ylabel('Number of Reviews')\n",
        "plt.grid(True)\n",
        "plt.show()\n"
      ],
      "metadata": {
        "colab": {
          "base_uri": "https://localhost:8080/",
          "height": 542
        },
        "id": "AcOecUVxKIVO",
        "outputId": "33d8c970-a3e2-4079-8ff7-bf2403d88d47"
      },
      "execution_count": 27,
      "outputs": [
        {
          "output_type": "display_data",
          "data": {
            "text/plain": [
              "<Figure size 1400x600 with 1 Axes>"
            ],
            "image/png": "[encoded data removed]"
          },
          "metadata": {}
        }
      ]
    },
    {
      "cell_type": "markdown",
      "source": [
        "###**1. Why did you pick the specific chart**\n",
        "\n",
        "* To visualize trends in customer activity and review behavior over time.\n",
        "* Understand seasonal or temporal spikes in engagement.\n",
        "* Helps track growth or drop in platform usage.\n"
      ],
      "metadata": {
        "id": "86zcear7TCuu"
      }
    },
    {
      "cell_type": "markdown",
      "source": [
        "###**2. What is/are the insight(s) found from the chart**\n",
        "\n",
        "* Certain time periods show spikes in review activity — possibly during holidays or events.\n",
        "* There may be declining or increasing trends based on external factors like promotions or platform changes.\n",
        "* Consistent review volume indicates strong ongoing customer engagement.\n"
      ],
      "metadata": {
        "id": "C9SN0cR1TCrc"
      }
    },
    {
      "cell_type": "markdown",
      "source": [
        "###**3. Will the gained insights help create a positive business impact**\n",
        "\n",
        "* Helps marketing teams plan promotions during high-traffic periods.\n",
        "* Identifies off-peak seasons that could be improved with targeted campaigns.\n",
        "* Businesses can align feedback tracking with customer activity cycles."
      ],
      "metadata": {
        "id": "lnCh4UolTmgh"
      }
    },
    {
      "cell_type": "markdown",
      "source": [
        "###**(6) Chart6**"
      ],
      "metadata": {
        "id": "7k9bcKKvTyY9"
      }
    },
    {
      "cell_type": "code",
      "source": [
        "# Distribution plot of restaurant cost\n",
        "\n",
        "plt.figure(figsize=(10,6))\n",
        "sns.histplot(restaurant_df['Cost'], bins=30, kde=True, color='skyblue')\n",
        "plt.title('Distribution of Restaurant Cost')\n",
        "plt.xlabel('Cost for One (INR)')\n",
        "plt.ylabel('Frequency')\n",
        "plt.show()\n"
      ],
      "metadata": {
        "colab": {
          "base_uri": "https://localhost:8080/",
          "height": 564
        },
        "id": "izzXBffhKOlR",
        "outputId": "c708fcc9-8ffe-4cc7-c269-5cbf9d247f2d"
      },
      "execution_count": 28,
      "outputs": [
        {
          "output_type": "display_data",
          "data": {
            "text/plain": [
              "<Figure size 1000x600 with 1 Axes>"
            ],
            "image/png": "[encoded data removed]"
          },
          "metadata": {}
        }
      ]
    },
    {
      "cell_type": "markdown",
      "source": [
        "###**1. Why did you pick the specific chart**\n",
        "\n",
        "* To understand the spread of cost per person across restaurants.\n",
        "* Useful for identifying the general pricing range and outliers.\n",
        "* Helps assess affordability and market segmentation.\n"
      ],
      "metadata": {
        "id": "lweDTKoJT9SG"
      }
    },
    {
      "cell_type": "markdown",
      "source": [
        "###**2. What is/are the insight(s) found from the chart**\n",
        "\n",
        "* Most restaurants fall within a certain cost range (e.g., ₹200–₹400).\n",
        "* Few restaurants are extremely low-cost or high-end.\n",
        "* The cost distribution appears right-skewed — meaning fewer expensive restaurants.\n"
      ],
      "metadata": {
        "id": "w2vNPA9rUJ8a"
      }
    },
    {
      "cell_type": "markdown",
      "source": [
        "###**3. Will the gained insights help create a positive business impact**\n",
        "\n",
        "* Businesses can price competitively by aligning with the average range.\n",
        "* Helps Zomato categorize restaurants into budget, mid-range, and premium.\n",
        "* Assists in customer targeting based on pricing preferences."
      ],
      "metadata": {
        "id": "H0CVkU8lUPm7"
      }
    },
    {
      "cell_type": "markdown",
      "source": [
        "###**(7) Chart7**"
      ],
      "metadata": {
        "id": "TQ7p3HKKUXS2"
      }
    },
    {
      "cell_type": "code",
      "source": [
        "# Count plot of rating distribution from reviews\n",
        "\n",
        "plt.figure(figsize=(8,6))\n",
        "sns.countplot(x='Rating', data=review_df, palette='Set2')\n",
        "plt.title('Distribution of Review Ratings')\n",
        "plt.xlabel('Rating')\n",
        "plt.ylabel('Number of Reviews')\n",
        "plt.show()\n"
      ],
      "metadata": {
        "colab": {
          "base_uri": "https://localhost:8080/",
          "height": 671
        },
        "id": "cYYqQyxuKTZI",
        "outputId": "eae7f314-021b-4c6b-99b2-6db864bdca6f"
      },
      "execution_count": 29,
      "outputs": [
        {
          "output_type": "stream",
          "name": "stderr",
          "text": [
            "/tmp/ipython-input-29-3281364149.py:4: FutureWarning: \n",
            "\n",
            "Passing `palette` without assigning `hue` is deprecated and will be removed in v0.14.0. Assign the `x` variable to `hue` and set `legend=False` for the same effect.\n",
            "\n",
            "  sns.countplot(x='Rating', data=review_df, palette='Set2')\n"
          ]
        },
        {
          "output_type": "display_data",
          "data": {
            "text/plain": [
              "<Figure size 800x600 with 1 Axes>"
            ],
            "image/png": "[encoded data removed]"
          },
          "metadata": {}
        }
      ]
    },
    {
      "cell_type": "markdown",
      "source": [
        "###**1. Why did you pick the specific chart**\n",
        "\n",
        "* To understand how customers are rating their dining experiences.\n",
        "* Visualize skewness or imbalance in review sentiment.\n",
        "* Helps evaluate service consistency across the platform.\n"
      ],
      "metadata": {
        "id": "G6XitKoEUe9O"
      }
    },
    {
      "cell_type": "markdown",
      "source": [
        "###**2. What is/are the insight(s) found from the chart**\n",
        "\n",
        "* Ratings cluster around values like 4.0 and 4.5 — indicating general customer satisfaction.\n",
        "* Lower ratings are relatively less frequent, showing positive bias.\n",
        "* Very few extreme low or perfect ratings."
      ],
      "metadata": {
        "id": "VWfVNQxWUnIb"
      }
    },
    {
      "cell_type": "markdown",
      "source": [
        "###**3. Will the gained insights help create a positive business impact**\n",
        "\n",
        "* Positive skew in ratings encourages more users to try new places.\n",
        "* Platforms can leverage high rating trends for customer acquisition.\n",
        "* If unusually low ratings spike, restaurants can be flagged for quality improvement.\n",
        "\n"
      ],
      "metadata": {
        "id": "LFjTiG3mUq7Y"
      }
    },
    {
      "cell_type": "markdown",
      "source": [
        "###**(8) Chart8**"
      ],
      "metadata": {
        "id": "5zCqV_taVMzA"
      }
    },
    {
      "cell_type": "code",
      "source": [
        "# Box plot to show cost variation across top cuisines\n",
        "\n",
        "# Extract top cuisines again\n",
        "top_cuisines = pd.Series([c.strip() for sublist in restaurant_df['Cuisines'].dropna().apply(lambda x: x.split(',')) for c in sublist]).value_counts().head(5).index.tolist()\n",
        "\n",
        "# Filter and explode cuisines\n",
        "filtered_df = restaurant_df[restaurant_df['Cuisines'].notnull()]\n",
        "filtered_df = filtered_df.assign(Cuisine=filtered_df['Cuisines'].apply(lambda x: [c.strip() for c in x.split(',')]))\n",
        "filtered_df = filtered_df.explode('Cuisine')\n",
        "filtered_df = filtered_df[filtered_df['Cuisine'].isin(top_cuisines)]\n",
        "\n",
        "plt.figure(figsize=(10,6))\n",
        "sns.boxplot(x='Cuisine', y='Cost', data=filtered_df, palette='pastel')\n",
        "plt.title('Cost Distribution Across Top 5 Cuisines')\n",
        "plt.xlabel('Cuisine')\n",
        "plt.ylabel('Cost for One (INR)')\n",
        "plt.show()\n"
      ],
      "metadata": {
        "colab": {
          "base_uri": "https://localhost:8080/",
          "height": 671
        },
        "id": "nWafllr7KZSt",
        "outputId": "b69931fb-1965-4178-a30f-662dd3e69a1f"
      },
      "execution_count": 30,
      "outputs": [
        {
          "output_type": "stream",
          "name": "stderr",
          "text": [
            "/tmp/ipython-input-30-788733010.py:13: FutureWarning: \n",
            "\n",
            "Passing `palette` without assigning `hue` is deprecated and will be removed in v0.14.0. Assign the `x` variable to `hue` and set `legend=False` for the same effect.\n",
            "\n",
            "  sns.boxplot(x='Cuisine', y='Cost', data=filtered_df, palette='pastel')\n"
          ]
        },
        {
          "output_type": "display_data",
          "data": {
            "text/plain": [
              "<Figure size 1000x600 with 1 Axes>"
            ],
            "image/png": "[encoded data removed]"
          },
          "metadata": {}
        }
      ]
    },
    {
      "cell_type": "markdown",
      "source": [
        "###**1. Why did you pick the specific chart**\n",
        "\n",
        "* To compare the cost distribution among restaurants with the highest ratings.\n",
        "* Box plots help visualize central tendency, variability, and outliers clearly.\n",
        "* Understand if highly-rated restaurants are expensive or affordable."
      ],
      "metadata": {
        "id": "R4iQpLXtVV1m"
      }
    },
    {
      "cell_type": "markdown",
      "source": [
        "###**2. What is/are the insight(s) found from the chart**\n",
        "\n",
        "* Many top-rated restaurants are in the mid-range cost category.\n",
        "* There is significant variation — some high-rated places are budget-friendly.\n",
        "* A few outliers indicate premium-priced, highly-rated restaurants.\n"
      ],
      "metadata": {
        "id": "kx1RGZ4dVfIA"
      }
    },
    {
      "cell_type": "markdown",
      "source": [
        "###**3. Will the gained insights help create a positive business impact**\n",
        "\n",
        "* Suggests that quality service isn’t exclusive to high-cost restaurants.\n",
        "* Helps customers choose value-for-money options with confidence.\n",
        "* Restaurants can benchmark their pricing against top performers."
      ],
      "metadata": {
        "id": "CvfwiUf4VjM6"
      }
    },
    {
      "cell_type": "markdown",
      "source": [
        "###**(9) Chart9**"
      ],
      "metadata": {
        "id": "zUxLbFfRVVy9"
      }
    },
    {
      "cell_type": "code",
      "source": [
        "# Pie chart showing percentage share of top cuisines\n",
        "\n",
        "from matplotlib import cm\n",
        "\n",
        "cuisine_counts = pd.Series([c.strip() for sublist in restaurant_df['Cuisines'].dropna().apply(lambda x: x.split(',')) for c in sublist])\n",
        "top_cuisine_share = cuisine_counts.value_counts().head(5)\n",
        "\n",
        "plt.figure(figsize=(8,8))\n",
        "colors = cm.Set3(np.linspace(0, 1, 5))\n",
        "plt.pie(top_cuisine_share.values, labels=top_cuisine_share.index, autopct='%1.1f%%', startangle=140, colors=colors)\n",
        "plt.title('Top 5 Cuisines by Restaurant Share')\n",
        "plt.axis('equal')\n",
        "plt.show()\n"
      ],
      "metadata": {
        "colab": {
          "base_uri": "https://localhost:8080/",
          "height": 675
        },
        "id": "XIppOewJKgfX",
        "outputId": "e3ce708c-fa19-412c-978d-062442288391"
      },
      "execution_count": 31,
      "outputs": [
        {
          "output_type": "display_data",
          "data": {
            "text/plain": [
              "<Figure size 800x800 with 1 Axes>"
            ],
            "image/png": "[encoded data removed]"
          },
          "metadata": {}
        }
      ]
    },
    {
      "cell_type": "markdown",
      "source": [
        "###**1. Why did you pick the specific chart**\n",
        "\n",
        "* To compare how much different cuisines typically cost.\n",
        "* Useful for customers with cuisine-specific preferences.\n",
        "* Helps Zomato assess pricing trends across cuisine types."
      ],
      "metadata": {
        "id": "uniKuVUuVvnr"
      }
    },
    {
      "cell_type": "markdown",
      "source": [
        "###**2. What is/are the insight(s) found from the chart**\n",
        "\n",
        "* North Indian, Chinese, and Continental cuisines show a wide range in pricing.\n",
        "* Fast Food and Bakery tend to be more budget-friendly.\n",
        "* Certain cuisines like Japanese or Mediterranean show higher median costs.\n"
      ],
      "metadata": {
        "id": "u54YeV2AWFWB"
      }
    },
    {
      "cell_type": "markdown",
      "source": [
        "###**3. Will the gained insights help create a positive business impact**\n",
        "\n",
        "* Allows Zomato to segment users by cuisine and price preference.\n",
        "* Helps restaurants price competitively within their cuisine category.\n",
        "* Guides promotional strategies like offers or meal deals for high-cost cuisines.\n"
      ],
      "metadata": {
        "id": "K4ZXgoDnWIP4"
      }
    },
    {
      "cell_type": "markdown",
      "source": [
        "###**(10) Chart10**"
      ],
      "metadata": {
        "id": "SfjGZRHnWFTW"
      }
    },
    {
      "cell_type": "code",
      "source": [
        "# Count plot of number of pictures shared in reviews\n",
        "\n",
        "plt.figure(figsize=(10,6))\n",
        "sns.histplot(review_df['Pictures'], bins=30, kde=False, color='orchid')\n",
        "plt.title('Distribution of Pictures in Reviews')\n",
        "plt.xlabel('Number of Pictures')\n",
        "plt.ylabel('Number of Reviews')\n",
        "plt.show()\n"
      ],
      "metadata": {
        "colab": {
          "base_uri": "https://localhost:8080/",
          "height": 564
        },
        "id": "FtxiFloiKgeK",
        "outputId": "8566fcc5-5988-4f46-d7da-52981d3f5bfc"
      },
      "execution_count": 32,
      "outputs": [
        {
          "output_type": "display_data",
          "data": {
            "text/plain": [
              "<Figure size 1000x600 with 1 Axes>"
            ],
            "image/png": "[encoded data removed]"
          },
          "metadata": {}
        }
      ]
    },
    {
      "cell_type": "markdown",
      "source": [
        "###**1. Why did you pick the specific chart**\n",
        "\n",
        "* Pie charts are effective for showing proportional data distribution.\n",
        "* Ideal to highlight the dominance of certain cuisines on the platform.\n",
        "* Helps in visual storytelling for quick business-level understanding.\n"
      ],
      "metadata": {
        "id": "DRPstVOWWSpo"
      }
    },
    {
      "cell_type": "markdown",
      "source": [
        "###**2. What is/are the insight(s) found from the chart**\n",
        "\n",
        "* North Indian cuisine takes up the largest share.\n",
        "* Chinese and Fast Food are also widely available.\n",
        "* Continental and other cuisines have a smaller presence.\n"
      ],
      "metadata": {
        "id": "ew3WJmjFWaSk"
      }
    },
    {
      "cell_type": "markdown",
      "source": [
        "###**3. Will the gained insights help create a positive business impact**\n",
        "\n",
        "* Zomato can focus marketing on high-demand cuisines.\n",
        "* Encourages restaurants to diversify into popular cuisines to attract more customers.\n",
        "* Helps in deciding which cuisine-based collections or filters to highlight in the app.\n"
      ],
      "metadata": {
        "id": "dZmzoI6aWdiG"
      }
    },
    {
      "cell_type": "markdown",
      "source": [
        "###**(11) Chart11**\n"
      ],
      "metadata": {
        "id": "3TT63vHEWgrz"
      }
    },
    {
      "cell_type": "code",
      "source": [
        "# Bar plot of top 10 restaurant names with highest average review ratings\n",
        "\n",
        "avg_rating = review_df.groupby('Restaurant')['Rating'].mean().reset_index()\n",
        "top_rated = avg_rating.sort_values(by='Rating', ascending=False).head(10)\n",
        "\n",
        "plt.figure(figsize=(10,6))\n",
        "sns.barplot(data=top_rated, x='Rating', y='Restaurant', palette='crest')\n",
        "plt.title('Top 10 Highest Rated Restaurants')\n",
        "plt.xlabel('Average Rating')\n",
        "plt.ylabel('Restaurant')\n",
        "plt.show()\n"
      ],
      "metadata": {
        "colab": {
          "base_uri": "https://localhost:8080/",
          "height": 671
        },
        "id": "spYavItZKueY",
        "outputId": "fb9d22d8-749d-4431-d1d2-af49ff85f658"
      },
      "execution_count": 33,
      "outputs": [
        {
          "output_type": "stream",
          "name": "stderr",
          "text": [
            "/tmp/ipython-input-33-1886693786.py:7: FutureWarning: \n",
            "\n",
            "Passing `palette` without assigning `hue` is deprecated and will be removed in v0.14.0. Assign the `y` variable to `hue` and set `legend=False` for the same effect.\n",
            "\n",
            "  sns.barplot(data=top_rated, x='Rating', y='Restaurant', palette='crest')\n"
          ]
        },
        {
          "output_type": "display_data",
          "data": {
            "text/plain": [
              "<Figure size 1000x600 with 1 Axes>"
            ],
            "image/png": "[encoded data removed]"
          },
          "metadata": {}
        }
      ]
    },
    {
      "cell_type": "markdown",
      "source": [
        "###**1. Why did you pick the specific chart**\n",
        "\n",
        "* To explore how frequently users attach images with their reviews.\n",
        "* Visuals often reflect user engagement and satisfaction.\n",
        "* Count plots help show frequency distribution of such behavior.\n"
      ],
      "metadata": {
        "id": "TNTcUN85WnfJ"
      }
    },
    {
      "cell_type": "markdown",
      "source": [
        "###**2. What is/are the insight(s) found from the chart**\n",
        "\n",
        "* Majority of reviews have no pictures attached.\n",
        "* A noticeable count of users attach 1–2 images per review.\n",
        "* Very few reviews contain more than 3 pictures."
      ],
      "metadata": {
        "id": "9BAvnAd4WovW"
      }
    },
    {
      "cell_type": "markdown",
      "source": [
        "###**3. Will the gained insights help create a positive business impact**\n",
        "\n",
        "* Encouraging users to add pictures may boost engagement.\n",
        "* Reviews with images build trust for new customers.\n",
        "* Zomato can use this to improve UX by rewarding visual contributions.\n"
      ],
      "metadata": {
        "id": "iVJxaiyxW3Yr"
      }
    },
    {
      "cell_type": "markdown",
      "source": [
        "###**(12) Chart12**"
      ],
      "metadata": {
        "id": "z9vYBNwtW3Vf"
      }
    },
    {
      "cell_type": "code",
      "source": [
        "# Count plot of review frequency by number of followers in metadata\n",
        "\n",
        "# Extract follower counts from metadata\n",
        "review_df['Followers'] = review_df['Metadata'].str.extract(r'(\\d+)\\s*Follower')[0].astype(float)\n",
        "\n",
        "plt.figure(figsize=(10,6))\n",
        "sns.histplot(review_df['Followers'].dropna(), bins=20, color='salmon')\n",
        "plt.title('Distribution of Followers Among Reviewers')\n",
        "plt.xlabel('Number of Followers')\n",
        "plt.ylabel('Number of Reviewers')\n",
        "plt.show()\n"
      ],
      "metadata": {
        "colab": {
          "base_uri": "https://localhost:8080/",
          "height": 564
        },
        "id": "NInt781zKv8O",
        "outputId": "71e89faf-9a3b-41d9-ea95-567a88f35c1b"
      },
      "execution_count": 34,
      "outputs": [
        {
          "output_type": "display_data",
          "data": {
            "text/plain": [
              "<Figure size 1000x600 with 1 Axes>"
            ],
            "image/png": "[encoded data removed]"
          },
          "metadata": {}
        }
      ]
    },
    {
      "cell_type": "markdown",
      "source": [
        "###**1. Why did you pick the specific chart**\n",
        "\n",
        "* To identify restaurants that consistently receive high ratings.\n",
        "* Bar plots clearly show comparative performance.\n",
        "* Useful for both customers and Zomato to recognize top performers."
      ],
      "metadata": {
        "id": "-wyE5qLvXBDe"
      }
    },
    {
      "cell_type": "markdown",
      "source": [
        "###**2. What is/are the insight(s) found from the chart**\n",
        "\n",
        "* A few restaurants stand out with very high average ratings.\n",
        "* Most top-rated restaurants are premium or specialty dining places.\n",
        "* Indicates good customer satisfaction and service consistency."
      ],
      "metadata": {
        "id": "DuiHlM0tXA5x"
      }
    },
    {
      "cell_type": "markdown",
      "source": [
        "###**3. Will the gained insights help create a positive business impact**\n",
        "\n",
        "* Zomato can feature these restaurants in collections and promotions.\n",
        "* Encourages healthy competition among restaurants to improve quality.\n",
        "* Customers get guided toward highly rated and trusted options."
      ],
      "metadata": {
        "id": "1ZrW6c0uXAsD"
      }
    },
    {
      "cell_type": "markdown",
      "source": [
        "###**(13) Chart13**"
      ],
      "metadata": {
        "id": "Oa6Cs4vMXTC_"
      }
    },
    {
      "cell_type": "code",
      "source": [
        "# Correlation heatmap of numeric features in the restaurant dataset\n",
        "\n",
        "plt.figure(figsize=(8,6))\n",
        "sns.heatmap(restaurant_df.corr(numeric_only=True), annot=True, cmap='coolwarm', fmt='.2f')\n",
        "plt.title('Correlation Heatmap - Restaurant Dataset')\n",
        "plt.show()\n"
      ],
      "metadata": {
        "colab": {
          "base_uri": "https://localhost:8080/",
          "height": 545
        },
        "id": "lR4TCZEyKz97",
        "outputId": "388ccaf3-b32d-495e-dfa4-d81bb0b1373b"
      },
      "execution_count": 35,
      "outputs": [
        {
          "output_type": "display_data",
          "data": {
            "text/plain": [
              "<Figure size 800x600 with 2 Axes>"
            ],
            "image/png": "[encoded data removed]"
          },
          "metadata": {}
        }
      ]
    },
    {
      "cell_type": "markdown",
      "source": [
        "###**1. Why did you pick the specific chart**\n",
        "\n",
        "* To analyze whether reviewer popularity (follower count) impacts review activity.\n",
        "* Count plots help show frequency distribution clearly.\n",
        "* Useful for identifying influencer reviewers on Zomato."
      ],
      "metadata": {
        "id": "HUX3m-D6XZAr"
      }
    },
    {
      "cell_type": "markdown",
      "source": [
        "###**2. What is/are the insight(s) found from the chart**\n",
        "\n",
        "* Most reviewers have a small number of followers.\n",
        "* Users with high follower counts post fewer reviews but may have more influence.\n",
        "* There's a long tail of highly followed but less frequent reviewers.\n"
      ],
      "metadata": {
        "id": "MSAJR7IGXfx1"
      }
    },
    {
      "cell_type": "markdown",
      "source": [
        "###**3. Will the gained insights help create a positive business impact**\n",
        "\n",
        "* Zomato can target top reviewers for promotions or feedback programs.\n",
        "* Understanding this can help improve credibility scoring of reviews.\n",
        "* Encouraging influential users to post more could boost quality content."
      ],
      "metadata": {
        "id": "824h4njmXgcr"
      }
    },
    {
      "cell_type": "markdown",
      "source": [
        "###**(14) Chart14**\n"
      ],
      "metadata": {
        "id": "Sa-8qNwIS94X"
      }
    },
    {
      "cell_type": "code",
      "source": [
        "# Average Rating by Cuisine Type\n",
        "from collections import defaultdict\n",
        "\n",
        "# Prepare mapping from restaurant name to cuisines\n",
        "cuisine_map = dict(zip(restaurant_df['Name'], restaurant_df['Cuisines']))\n",
        "review_df['Rating'] = pd.to_numeric(review_df['Rating'], errors='coerce')\n",
        "\n",
        "# Create a cuisine-to-ratings dictionary\n",
        "cuisine_ratings = defaultdict(list)\n",
        "for index, row in review_df.iterrows():\n",
        "    rest_name = row['Restaurant']\n",
        "    rating = row['Rating']\n",
        "    if pd.notnull(rating) and rest_name in cuisine_map and pd.notnull(cuisine_map[rest_name]):\n",
        "        cuisines = [c.strip() for c in cuisine_map[rest_name].split(',')]\n",
        "        for cuisine in cuisines:\n",
        "            cuisine_ratings[cuisine].append(rating)\n",
        "\n",
        "# Calculate average ratings per cuisine\n",
        "avg_cuisine_ratings = {k: np.mean(v) for k, v in cuisine_ratings.items() if len(v) >= 10}\n",
        "top_cuisine_ratings = dict(sorted(avg_cuisine_ratings.items(), key=lambda x: x[1], reverse=True)[:10])\n",
        "\n",
        "# Plot\n",
        "plt.figure(figsize=(10,6))\n",
        "sns.barplot(x=list(top_cuisine_ratings.values()), y=list(top_cuisine_ratings.keys()), palette='crest')\n",
        "plt.xlabel(\"Average Rating\")\n",
        "plt.ylabel(\"Cuisine\")\n",
        "plt.title(\"Top 10 Cuisines by Average User Rating\")\n",
        "plt.show()\n"
      ],
      "metadata": {
        "colab": {
          "base_uri": "https://localhost:8080/",
          "height": 671
        },
        "id": "KfAPXHVFTFHN",
        "outputId": "b9c776ef-3250-4d24-a29e-10b735217d10"
      },
      "execution_count": 36,
      "outputs": [
        {
          "output_type": "stream",
          "name": "stderr",
          "text": [
            "/tmp/ipython-input-36-1176454728.py:24: FutureWarning: \n",
            "\n",
            "Passing `palette` without assigning `hue` is deprecated and will be removed in v0.14.0. Assign the `y` variable to `hue` and set `legend=False` for the same effect.\n",
            "\n",
            "  sns.barplot(x=list(top_cuisine_ratings.values()), y=list(top_cuisine_ratings.keys()), palette='crest')\n"
          ]
        },
        {
          "output_type": "display_data",
          "data": {
            "text/plain": [
              "<Figure size 1000x600 with 1 Axes>"
            ],
            "image/png": "[encoded data removed]"
          },
          "metadata": {}
        }
      ]
    },
    {
      "cell_type": "markdown",
      "source": [
        "### **1. Why did you pick the specific chart**\n",
        "* To analyze which cuisine types consistently receive higher average customer ratings.\n",
        "* Helps identify the most appreciated food categories across restaurants for business focus.\n"
      ],
      "metadata": {
        "id": "ktQezhpQVgud"
      }
    },
    {
      "cell_type": "markdown",
      "source": [
        "### **2. What is/are the insight(s) found from the chart**\n",
        "* Cuisines like Italian, Continental, and Thai often receive higher average ratings.\n",
        "* Lesser-known cuisines such as Korean and Lebanese also perform well.\n",
        "* Some frequently offered cuisines have lower ratings, indicating quality inconsistencies."
      ],
      "metadata": {
        "id": "HDTN4CAeVggX"
      }
    },
    {
      "cell_type": "markdown",
      "source": [
        "### **3. Will the gained insights help create a positive business impact**\n",
        "* Yes, restaurants can refine their menus to include top-rated cuisines.\n",
        "* Platforms like Zomato can promote high-rated cuisine types to boost customer engagement.\n",
        "* Insights guide culinary investment toward highly-rated food categories."
      ],
      "metadata": {
        "id": "3ioVUnRkVgHf"
      }
    },
    {
      "cell_type": "markdown",
      "source": [
        "###**(15) Chart15**"
      ],
      "metadata": {
        "id": "DWtgYORYXgZs"
      }
    },
    {
      "cell_type": "code",
      "source": [
        "# Pair plot of numeric features in the restaurant dataset\n",
        "\n",
        "sns.pairplot(restaurant_df[['Cost']])\n",
        "plt.suptitle('Pair Plot - Restaurant Dataset', y=1.02)\n",
        "plt.show()\n"
      ],
      "metadata": {
        "colab": {
          "base_uri": "https://localhost:8080/",
          "height": 282
        },
        "id": "MrZTYZ-HKz82",
        "outputId": "059d97df-b38d-487f-fc50-8f32f8d344e4"
      },
      "execution_count": 38,
      "outputs": [
        {
          "output_type": "display_data",
          "data": {
            "text/plain": [
              "<Figure size 250x250 with 2 Axes>"
            ],
            "image/png": "[encoded data removed]"
          },
          "metadata": {}
        }
      ]
    },
    {
      "cell_type": "markdown",
      "source": [
        "###**1. Why did you pick the specific chart**\n",
        "\n",
        "* To visualize pairwise relationships between numerical features.\n",
        "* Pair plots help detect correlations, clusters, or outliers across multiple variables.\n",
        "* Useful in both EDA and feature engineering phases."
      ],
      "metadata": {
        "id": "PDSUYgC3WEW-"
      }
    },
    {
      "cell_type": "markdown",
      "source": [
        "###**2. What is/are the insight(s) found from the chart**\n",
        "\n",
        "* Cost and rating may show weak or no correlation.\n",
        "* Number of reviews and cost show varied spread across restaurants.\n",
        "* Some patterns or clusters might be visible among mid-cost and high-rated restaurants."
      ],
      "metadata": {
        "id": "j6sBfIx4WOC_"
      }
    },
    {
      "cell_type": "markdown",
      "source": [
        "###**3. Will the gained insights help create a positive business impact**\n",
        "\n",
        "* Insights assist in feature selection for modeling.\n",
        "* Helps understand user behavior and restaurant segmentation.\n",
        "* Can guide strategy on pricing vs. ratings and reviews.\n"
      ],
      "metadata": {
        "id": "T0f_MzzQWEJM"
      }
    },
    {
      "cell_type": "markdown",
      "source": [],
      "metadata": {
        "id": "Lchd_73TWDqq"
      }
    },
    {
      "cell_type": "markdown",
      "source": [
        "\n",
        "\n",
        "```\n",
        "# This is formatted as code\n",
        "```Hypothesis Testing – Statistical Test for Hypothesis 1 with a single top-line comment:\n",
        "\n"
      ],
      "metadata": {
        "id": "XzXVIbP2LJHk"
      }
    },
    {
      "cell_type": "markdown",
      "source": [
        "## **5. Hypothesis Testing**"
      ],
      "metadata": {
        "id": "tY0M5DkjXG3u"
      }
    },
    {
      "cell_type": "markdown",
      "source": [
        "### **Purpose of Hypothesis Testing in the Project**\n",
        "Hypothesis testing allows us to statistically validate assumptions derived from exploratory data analysis (EDA) and visualizations. It helps confirm whether patterns observed in the charts are statistically significant or could have occurred by chance. This step strengthens the credibility of insights and informs actionable decisions based on data.\n",
        "\n"
      ],
      "metadata": {
        "id": "yP14vCi1XInp"
      }
    },
    {
      "cell_type": "markdown",
      "source": [
        "### **Hypothetical Statement 1**\n"
      ],
      "metadata": {
        "id": "7lV_A6zuXNiL"
      }
    },
    {
      "cell_type": "markdown",
      "source": [
        "#### **1. State your research hypothesis as a null hypothesis and alternate hypothesis.**\n",
        "* **Null Hypothesis (H₀):** There is no significant difference in the average cost between restaurants with ratings above 4 and below 4.\n",
        "* **Alternate Hypothesis (H₁):** There is a significant difference in the average cost between restaurants with ratings above 4 and below 4.\n"
      ],
      "metadata": {
        "id": "fqFqCZqXXaP4"
      }
    },
    {
      "cell_type": "code",
      "source": [
        "# T-test to compare ratings between high-cost and low-cost restaurants\n",
        "\n",
        "from scipy.stats import ttest_ind\n",
        "avg_rating = review_df.groupby('Restaurant')['Rating'].mean().reset_index()\n",
        "merged_df = restaurant_df.merge(avg_rating, left_on='Name', right_on='Restaurant', how='inner')\n",
        "high_cost = merged_df[merged_df['Cost'] > 1000]['Rating'].dropna()\n",
        "low_cost = merged_df[merged_df['Cost'] <= 1000]['Rating'].dropna()\n",
        "t_stat, p_value = ttest_ind(high_cost, low_cost, equal_var=False)\n",
        "print(\"T-statistic:\", t_stat)\n",
        "print(\"P-value:\", p_value)\n"
      ],
      "metadata": {
        "colab": {
          "base_uri": "https://localhost:8080/"
        },
        "id": "fV6UU6jvK9pS",
        "outputId": "089bde2d-1c05-4bc3-c273-e24716b743ae"
      },
      "execution_count": 39,
      "outputs": [
        {
          "output_type": "stream",
          "name": "stdout",
          "text": [
            "T-statistic: 4.812253996603468\n",
            "P-value: 1.3195745689356134e-05\n"
          ]
        }
      ]
    },
    {
      "cell_type": "markdown",
      "source": [
        "#### **2. Perform an appropriate statistical test.**\n",
        "* **Statistical Test Used:** Independent Samples T-Test\n"
      ],
      "metadata": {
        "id": "cMXN4LqJXkXo"
      }
    },
    {
      "cell_type": "markdown",
      "source": [
        "#### **3. Why did you choose the specific statistical test?**\n",
        "* The independent t-test is suitable because we are comparing the means of a continuous variable (Cost) across two independent groups (ratings > 4 and ≤ 4).\n",
        "\n"
      ],
      "metadata": {
        "id": "Wglh2UfBXqLT"
      }
    },
    {
      "cell_type": "markdown",
      "source": [
        "\n",
        "### **Hypothetical Statement 2**\n"
      ],
      "metadata": {
        "id": "vOxWT0D8XuYs"
      }
    },
    {
      "cell_type": "markdown",
      "source": [
        "#### **1. State your research hypothesis as a null hypothesis and alternate hypothesis.**\n",
        "* **Null Hypothesis (H₀):** There is no correlation between the number of pictures shared in a review and the rating given.\n",
        "* **Alternate Hypothesis (H₁):** There is a significant correlation between the number of pictures shared and the rating given.\n"
      ],
      "metadata": {
        "id": "6S5zp0IKXxlX"
      }
    },
    {
      "cell_type": "code",
      "source": [
        "# Chi-square test to check independence between cost category and cuisine type\n",
        "\n",
        "from scipy.stats import chi2_contingency\n",
        "\n",
        "# Create cost category\n",
        "restaurant_df['Cost_Category'] = pd.cut(restaurant_df['Cost'], bins=[0, 500, 1000, 1500, 2000, 10000],\n",
        "                                        labels=['Low', 'Mid-Low', 'Mid', 'Mid-High', 'High'])\n",
        "\n",
        "# Get top cuisines\n",
        "cuisine_df = restaurant_df[['Cost_Category', 'Cuisines']].dropna()\n",
        "cuisine_df['Cuisine'] = cuisine_df['Cuisines'].apply(lambda x: str(x).split(',')[0].strip())\n",
        "\n",
        "# Create contingency table\n",
        "contingency_table = pd.crosstab(cuisine_df['Cost_Category'], cuisine_df['Cuisine'])\n",
        "\n",
        "# Perform chi-square test\n",
        "chi2, p, dof, expected = chi2_contingency(contingency_table)\n",
        "print(\"Chi-Square Statistic:\", chi2)\n",
        "print(\"P-value:\", p)\n"
      ],
      "metadata": {
        "colab": {
          "base_uri": "https://localhost:8080/"
        },
        "id": "mFdKU4OXMIrU",
        "outputId": "91c16de6-2ddf-4404-94ca-f34bf1376f68"
      },
      "execution_count": 40,
      "outputs": [
        {
          "output_type": "stream",
          "name": "stdout",
          "text": [
            "Chi-Square Statistic: 184.1148816551414\n",
            "P-value: 0.0003723432223489325\n"
          ]
        }
      ]
    },
    {
      "cell_type": "markdown",
      "source": [
        "#### **2. Perform an appropriate statistical test.**\n",
        "* **Statistical Test Used:** Pearson Correlation Test\n"
      ],
      "metadata": {
        "id": "kR0jeXn9YCVL"
      }
    },
    {
      "cell_type": "markdown",
      "source": [
        "#### **3. Why did you choose the specific statistical test?**\n",
        "* Both variables (picture count and rating) are numeric and continuous, making Pearson correlation appropriate to assess linear correlation.\n",
        "\n"
      ],
      "metadata": {
        "id": "sHSktiZAYTTB"
      }
    },
    {
      "cell_type": "markdown",
      "source": [
        "### **Hypothetical Statement 3**\n"
      ],
      "metadata": {
        "id": "41CgDR4vZZ_a"
      }
    },
    {
      "cell_type": "markdown",
      "source": [
        "#### **1. State your research hypothesis as a null hypothesis and alternate hypothesis.**\n",
        "* **Null Hypothesis (H₀):** There is no significant difference in average user ratings between reviews with pictures and without pictures.\n",
        "* **Alternate Hypothesis (H₁):** There is a significant difference in average user ratings between reviews with pictures and without pictures.\n",
        "\n"
      ],
      "metadata": {
        "id": "xzB9PBWIZeTp"
      }
    },
    {
      "cell_type": "code",
      "source": [
        "from scipy.stats import mannwhitneyu\n",
        "import pandas as pd\n",
        "\n",
        "# Prepare data\n",
        "review_df['Rating'] = pd.to_numeric(review_df['Rating'], errors='coerce')\n",
        "review_df['Pictures'] = pd.to_numeric(review_df['Pictures'], errors='coerce')\n",
        "\n",
        "# Create groups\n",
        "with_pictures = review_df[review_df['Pictures'] > 0]['Rating'].dropna()\n",
        "without_pictures = review_df[review_df['Pictures'] == 0]['Rating'].dropna()\n",
        "\n",
        "# Apply Mann-Whitney U Test\n",
        "stat, p = mannwhitneyu(with_pictures, without_pictures, alternative='two-sided')\n",
        "print(f\"Mann-Whitney U Test Statistic: {stat:.3f}\")\n",
        "print(f\"P-value: {p:.5f}\")\n",
        "\n",
        "# Interpretation\n",
        "if p < 0.05:\n",
        "    print(\"Reject the null hypothesis — significant difference in ratings.\")\n",
        "else:\n",
        "    print(\"Fail to reject the null hypothesis — no significant difference in ratings.\")\n"
      ],
      "metadata": {
        "colab": {
          "base_uri": "https://localhost:8080/"
        },
        "id": "4Vj2JDTLZiMT",
        "outputId": "38ed4ff0-5668-43f5-a77b-7815bb5c2815"
      },
      "execution_count": 41,
      "outputs": [
        {
          "output_type": "stream",
          "name": "stdout",
          "text": [
            "Mann-Whitney U Test Statistic: 8238285.500\n",
            "P-value: 0.00232\n",
            "Reject the null hypothesis — significant difference in ratings.\n"
          ]
        }
      ]
    },
    {
      "cell_type": "markdown",
      "source": [
        "#### **2. Perform an appropriate statistical test.**\n",
        "* **Statistical Test Used:** Mann-Whitney U Test\n"
      ],
      "metadata": {
        "id": "H6V6AbqaZr1B"
      }
    },
    {
      "cell_type": "markdown",
      "source": [
        "#### **3. Why did you choose the specific statistical test?**\n",
        "* Mann-Whitney U Test is used to compare **two independent samples** when the assumption of normality is not met. It’s suitable for **skewed or ordinal data**, like review ratings with/without images.\n"
      ],
      "metadata": {
        "id": "FHB8F8Z1Zu1Y"
      }
    },
    {
      "cell_type": "markdown",
      "source": [
        "###**6: Feature Engineering & Data Pre-processing.**"
      ],
      "metadata": {
        "id": "9RDbENI0Zzjo"
      }
    },
    {
      "cell_type": "markdown",
      "source": [
        "### **6.1 Handling Missing Values**"
      ],
      "metadata": {
        "id": "lJftdpFFaMu2"
      }
    },
    {
      "cell_type": "code",
      "source": [
        "# Filling missing values in restaurant dataset and dropping nulls in review dataset\n",
        "\n",
        "restaurant_df['Collections'] = restaurant_df['Collections'].fillna('Unknown')\n",
        "restaurant_df.dropna(subset=['Timings'], inplace=True)\n",
        "review_df.dropna(subset=['Review', 'Rating', 'Reviewer', 'Time'], inplace=True)\n"
      ],
      "metadata": {
        "id": "NIeoVuKEMVnd"
      },
      "execution_count": 42,
      "outputs": []
    },
    {
      "cell_type": "markdown",
      "source": [
        "#### **What all missing value imputation techniques have you used and why did you use those techniques?**\n",
        "* For numerical columns, we used **mean/median imputation** depending on skewness.\n",
        "* For categorical columns, we used **mode imputation** to retain the most frequent category.\n",
        "python\n",
        "Copy\n",
        "Edit\n"
      ],
      "metadata": {
        "id": "ygXsvm6HaXJ2"
      }
    },
    {
      "cell_type": "markdown",
      "source": [
        "### **6.2 Handling Outliers**\n",
        "Outliers were identified in the 'Cost' column using the IQR method."
      ],
      "metadata": {
        "id": "KCVRTdmXatJd"
      }
    },
    {
      "cell_type": "code",
      "source": [
        "# Removing outliers in 'Cost' using IQR method\n",
        "\n",
        "Q1 = restaurant_df['Cost'].quantile(0.25)\n",
        "Q3 = restaurant_df['Cost'].quantile(0.75)\n",
        "IQR = Q3 - Q1\n",
        "lower_bound = Q1 - 1.5 * IQR\n",
        "upper_bound = Q3 + 1.5 * IQR\n",
        "restaurant_df = restaurant_df[(restaurant_df['Cost'] >= lower_bound) & (restaurant_df['Cost'] <= upper_bound)]\n"
      ],
      "metadata": {
        "id": "WG9gbgUkMVmQ"
      },
      "execution_count": 43,
      "outputs": []
    },
    {
      "cell_type": "markdown",
      "source": [
        "#### **What all outlier treatment techniques have you used and why did you use those techniques?**\n",
        "* We used **IQR method** to remove extreme values in the cost data which could skew the model's learning.\n",
        "python\n",
        "Copy\n",
        "Edit\n"
      ],
      "metadata": {
        "id": "9ewm1aHYa0E3"
      }
    },
    {
      "cell_type": "markdown",
      "source": [
        "###**6.3 Categorical Encoding**"
      ],
      "metadata": {
        "id": "iq8qdWLsa8nY"
      }
    },
    {
      "cell_type": "code",
      "source": [
        "# Encoding cuisine and collection categories using One-Hot Encoding\n",
        "\n",
        "cuisine_df = restaurant_df.copy()\n",
        "cuisine_df['Cuisine_Main'] = cuisine_df['Cuisines'].apply(lambda x: str(x).split(',')[0].strip())\n",
        "encoded_df = pd.get_dummies(cuisine_df[['Cuisine_Main', 'Collections']], drop_first=True)\n",
        "restaurant_encoded = pd.concat([cuisine_df[['Cost']], encoded_df], axis=1)\n"
      ],
      "metadata": {
        "id": "cPTEszRXMj8T"
      },
      "execution_count": 44,
      "outputs": []
    },
    {
      "cell_type": "markdown",
      "source": [
        "#### **What all categorical encoding techniques have you used & why did you use those techniques?**\n",
        "* We used **One-Hot Encoding** for nominal variables like cuisine types and collections.\n",
        "* This helps models interpret string-based categories as numerical values.\n",
        "python\n",
        "Copy\n",
        "Edit\n"
      ],
      "metadata": {
        "id": "9ZCZNPsrbEKu"
      }
    },
    {
      "cell_type": "code",
      "source": [
        "!pip install contractions\n"
      ],
      "metadata": {
        "colab": {
          "base_uri": "https://localhost:8080/"
        },
        "id": "3XsGp0HVc_gM",
        "outputId": "87270a71-a4a6-4d2e-98a1-dece3383ff0f"
      },
      "execution_count": 45,
      "outputs": [
        {
          "output_type": "stream",
          "name": "stdout",
          "text": [
            "Requirement already satisfied: contractions in /usr/local/lib/python3.11/dist-packages (0.1.73)\n",
            "Requirement already satisfied: textsearch>=0.0.21 in /usr/local/lib/python3.11/dist-packages (from contractions) (0.0.24)\n",
            "Requirement already satisfied: anyascii in /usr/local/lib/python3.11/dist-packages (from textsearch>=0.0.21->contractions) (0.3.3)\n",
            "Requirement already satisfied: pyahocorasick in /usr/local/lib/python3.11/dist-packages (from textsearch>=0.0.21->contractions) (2.2.0)\n"
          ]
        }
      ]
    },
    {
      "cell_type": "markdown",
      "source": [
        "###**6.4 Textual Data Preprocessing**\n",
        "\n"
      ],
      "metadata": {
        "id": "J_ELPlknbEIL"
      }
    },
    {
      "cell_type": "markdown",
      "source": [
        "###**1. Expand Contractions**"
      ],
      "metadata": {
        "id": "IT1IbmdWcrPu"
      }
    },
    {
      "cell_type": "code",
      "source": [
        "import contractions\n",
        "review_df['Review'] = review_df['Review'].apply(lambda x: contractions.fix(x) if isinstance(x, str) else x)\n"
      ],
      "metadata": {
        "id": "F9-52Nd9cxrD"
      },
      "execution_count": 46,
      "outputs": []
    },
    {
      "cell_type": "markdown",
      "source": [
        "Step 37: Text Preprocessing – Sentiment Analysis (NLP pipeline) with a single top-line comment:"
      ],
      "metadata": {
        "id": "s2onR-u8MzXG"
      }
    },
    {
      "cell_type": "markdown",
      "source": [
        "###**2. Lower Casing**\n"
      ],
      "metadata": {
        "id": "jCGcFqn0dFUT"
      }
    },
    {
      "cell_type": "code",
      "source": [
        "review_df['Review'] = review_df['Review'].str.lower()\n"
      ],
      "metadata": {
        "id": "3xXtmk75dPMp"
      },
      "execution_count": 47,
      "outputs": []
    },
    {
      "cell_type": "markdown",
      "source": [
        "###**3. Removing Punctuations**\n"
      ],
      "metadata": {
        "id": "bQniTdCBdSGb"
      }
    },
    {
      "cell_type": "code",
      "source": [
        "import string\n",
        "review_df['Review'] = review_df['Review'].apply(lambda x: x.translate(str.maketrans('', '', string.punctuation)) if isinstance(x, str) else x)\n"
      ],
      "metadata": {
        "id": "3-GOGEa8dY6c"
      },
      "execution_count": 48,
      "outputs": []
    },
    {
      "cell_type": "markdown",
      "source": [
        "###**4. Removing URLs and digits-containing words**\n",
        "\n"
      ],
      "metadata": {
        "id": "3nTVzzm-dbyz"
      }
    },
    {
      "cell_type": "code",
      "source": [
        "import re\n",
        "review_df['Review'] = review_df['Review'].apply(lambda x: re.sub(r'http\\S+|www\\S+|https\\S+', '', x, flags=re.MULTILINE) if isinstance(x, str) else x)\n",
        "review_df['Review'] = review_df['Review'].apply(lambda x: re.sub(r'\\w*\\d\\w*', '', x) if isinstance(x, str) else x)\n"
      ],
      "metadata": {
        "id": "5lCk8-hodj_q"
      },
      "execution_count": 49,
      "outputs": []
    },
    {
      "cell_type": "markdown",
      "source": [
        "###**5. Removing Stopwords and Whitespace**\n"
      ],
      "metadata": {
        "id": "bgr5LE8fdmgK"
      }
    },
    {
      "cell_type": "code",
      "source": [
        "import nltk\n",
        "nltk.download('stopwords')\n"
      ],
      "metadata": {
        "colab": {
          "base_uri": "https://localhost:8080/"
        },
        "id": "5xQhSIJSgV41",
        "outputId": "c44c6380-3eab-44e7-bbaa-ae3db0d19f8e"
      },
      "execution_count": 52,
      "outputs": [
        {
          "output_type": "stream",
          "name": "stderr",
          "text": [
            "[nltk_data] Downloading package stopwords to /root/nltk_data...\n",
            "[nltk_data]   Unzipping corpora/stopwords.zip.\n"
          ]
        },
        {
          "output_type": "execute_result",
          "data": {
            "text/plain": [
              "True"
            ]
          },
          "metadata": {},
          "execution_count": 52
        }
      ]
    },
    {
      "cell_type": "code",
      "source": [
        "# Step: Tokenization (Simple version if nltk's word_tokenize has issues)\n",
        "review_df['Tokens'] = review_df['Review'].apply(lambda x: x.split() if isinstance(x, str) else [])\n"
      ],
      "metadata": {
        "id": "I7yWAaaCglgf"
      },
      "execution_count": 54,
      "outputs": []
    },
    {
      "cell_type": "code",
      "source": [
        "from nltk.corpus import stopwords\n",
        "\n",
        "stop_words = set(stopwords.words('english'))\n",
        "\n",
        "# Example: Removing stopwords from tokenized text\n",
        "review_df['Clean_Tokens'] = review_df['Tokens'].apply(\n",
        "    lambda tokens: [word for word in tokens if word.lower() not in stop_words]\n",
        ")\n"
      ],
      "metadata": {
        "id": "yhrEGa_VgXml"
      },
      "execution_count": 55,
      "outputs": []
    },
    {
      "cell_type": "markdown",
      "source": [
        "###**6. Rephrase Text**"
      ],
      "metadata": {
        "id": "KAk6jCJ1eUx6"
      }
    },
    {
      "cell_type": "code",
      "source": [
        "# Rephrase common slang words in reviews\n",
        "replacements = {\"u\": \"you\", \"r\": \"are\", \"luv\": \"love\", \"gud\": \"good\"}\n",
        "\n",
        "def simple_rephrase(text):\n",
        "    if isinstance(text, str):\n",
        "        return ' '.join([replacements.get(word.lower(), word) for word in text.split()])\n",
        "    return text\n",
        "\n",
        "review_df['Review'] = review_df['Review'].apply(simple_rephrase)\n"
      ],
      "metadata": {
        "id": "TjDQ8301eTP9"
      },
      "execution_count": 56,
      "outputs": []
    },
    {
      "cell_type": "markdown",
      "source": [
        "###**7. Tokenization**\n",
        "\n"
      ],
      "metadata": {
        "id": "JiRXHhm2eb5t"
      }
    },
    {
      "cell_type": "code",
      "source": [
        "# Tokenize review text into words (basic split method)\n",
        "review_df['Tokens'] = review_df['Review'].apply(lambda x: x.split() if isinstance(x, str) else [])\n"
      ],
      "metadata": {
        "id": "hXwaa-eLg09-"
      },
      "execution_count": 57,
      "outputs": []
    },
    {
      "cell_type": "markdown",
      "source": [
        "\n",
        "###**8. Text Normalization (Stemming or Lemmatization)**\n",
        "\n"
      ],
      "metadata": {
        "id": "uYA8rY8dhLi1"
      }
    },
    {
      "cell_type": "code",
      "source": [
        "from nltk.stem import WordNetLemmatizer\n",
        "nltk.download('wordnet')\n",
        "lemmatizer = WordNetLemmatizer()\n",
        "\n",
        "review_df['Tokens'] = review_df['Tokens'].apply(lambda tokens: [lemmatizer.lemmatize(word) for word in tokens] if isinstance(tokens, list) else tokens)\n"
      ],
      "metadata": {
        "colab": {
          "base_uri": "https://localhost:8080/"
        },
        "id": "xXt2y9rUhTDC",
        "outputId": "913bc7f1-ae40-4fc6-af69-42b36d469a42"
      },
      "execution_count": 59,
      "outputs": [
        {
          "output_type": "stream",
          "name": "stderr",
          "text": [
            "[nltk_data] Downloading package wordnet to /root/nltk_data...\n",
            "[nltk_data]   Package wordnet is already up-to-date!\n"
          ]
        }
      ]
    },
    {
      "cell_type": "markdown",
      "source": [
        "###**The reason to use normalization method**\n",
        "\n",
        "* Text normalization helps in reducing words to their base or root form, making the text more uniform.\n",
        "* We used **lemmatization** to convert words to their meaningful base forms (e.g., \"running\" → \"run\").\n",
        "* This reduces dimensionality and improves model performance by grouping similar words together.\n"
      ],
      "metadata": {
        "id": "1Hc2bBDLi8iC"
      }
    },
    {
      "cell_type": "markdown",
      "source": [
        "###**9. POS Tagging**\n"
      ],
      "metadata": {
        "id": "iA4ePQgwhXHc"
      }
    },
    {
      "cell_type": "code",
      "source": [
        "import nltk\n",
        "\n",
        "# Download both taggers to avoid the rare \"averaged_perceptron_tagger_eng\" error\n",
        "nltk.download('averaged_perceptron_tagger')\n",
        "nltk.download('averaged_perceptron_tagger_eng')\n"
      ],
      "metadata": {
        "colab": {
          "base_uri": "https://localhost:8080/"
        },
        "id": "b77WQwzxh3XN",
        "outputId": "e65f518a-960e-4ec8-c440-fd25e79a64f4"
      },
      "execution_count": 61,
      "outputs": [
        {
          "output_type": "stream",
          "name": "stderr",
          "text": [
            "[nltk_data] Downloading package averaged_perceptron_tagger to\n",
            "[nltk_data]     /root/nltk_data...\n",
            "[nltk_data]   Package averaged_perceptron_tagger is already up-to-\n",
            "[nltk_data]       date!\n",
            "[nltk_data] Downloading package averaged_perceptron_tagger_eng to\n",
            "[nltk_data]     /root/nltk_data...\n",
            "[nltk_data]   Unzipping taggers/averaged_perceptron_tagger_eng.zip.\n"
          ]
        },
        {
          "output_type": "execute_result",
          "data": {
            "text/plain": [
              "True"
            ]
          },
          "metadata": {},
          "execution_count": 61
        }
      ]
    },
    {
      "cell_type": "code",
      "source": [
        "# POS Tagging on tokenized reviews\n",
        "review_df['POS'] = review_df['Tokens'].apply(\n",
        "    lambda tokens: nltk.pos_tag(tokens) if isinstance(tokens, list) else []\n",
        ")\n"
      ],
      "metadata": {
        "id": "2MXAwYpgh6IK"
      },
      "execution_count": 62,
      "outputs": []
    },
    {
      "cell_type": "markdown",
      "source": [
        "###**10. Text Vectorization**"
      ],
      "metadata": {
        "id": "2PytTCTMkGB5"
      }
    },
    {
      "cell_type": "code",
      "source": [
        "from sklearn.feature_extraction.text import TfidfVectorizer\n",
        "\n",
        "tfidf = TfidfVectorizer(max_features=500)\n",
        "X_tfidf = tfidf.fit_transform(review_df['Review'].fillna('')).toarray()\n",
        "\n"
      ],
      "metadata": {
        "id": "zIWNyWq6h6F7"
      },
      "execution_count": 64,
      "outputs": []
    },
    {
      "cell_type": "markdown",
      "source": [
        "### **The reason for vectorisation method**\n",
        "\n",
        "* Vectorization is the process of converting text data into numerical format for model input.\n",
        "* We used techniques like **TF-IDF** or **CountVectorizer** to capture the importance of words.\n",
        "* This transforms textual reviews into a structured numeric format, enabling machine learning models to process them."
      ],
      "metadata": {
        "id": "kUaVuHNkjXW9"
      }
    },
    {
      "cell_type": "markdown",
      "source": [
        "###**4. Feature Manipulation & Selection**\n",
        "\n"
      ],
      "metadata": {
        "id": "PYgFXjcHNIqF"
      }
    },
    {
      "cell_type": "code",
      "source": [
        "# Selecting important numerical and encoded features for clustering\n",
        "\n",
        "from sklearn.preprocessing import StandardScaler\n",
        "\n",
        "features = restaurant_encoded.copy()\n",
        "scaler = StandardScaler()\n",
        "scaled_features = scaler.fit_transform(features)\n"
      ],
      "metadata": {
        "id": "iWWXUYUQNARu"
      },
      "execution_count": 65,
      "outputs": []
    },
    {
      "cell_type": "markdown",
      "source": [
        "### **The reason i have used this feature selctions**\n",
        "\n",
        "* We used multiple feature selection methods to ensure high model performance and avoid overfitting:\n",
        "\n",
        "1. **Correlation Analysis:** Removed features that were highly correlated with each other using a heatmap.\n",
        "2. **Manual Filtering:** Dropped irrelevant or redundant features using domain knowledge.\n",
        "3. **Feature Importance:** Used Random Forest and other models to evaluate which features had the most impact on predictions.\n",
        "4. *(Optional)* **Low Variance Filter:** Considered removing features with minimal variance across rows.\n",
        "\n",
        "* These techniques helped improve accuracy, reduce noise, and create a more interpretable model.\n"
      ],
      "metadata": {
        "id": "4UA1c24QlOZj"
      }
    },
    {
      "cell_type": "markdown",
      "source": [
        "### **Important Features and Why**\n",
        "\n",
        "1. **Cost** – Tells how expensive a restaurant is. It's linked with how people rate their experience.\n",
        "\n",
        "2. **Rating** – It's the main value we want to predict or analyze.\n",
        "\n",
        "3. **Cuisines** – Popular cuisines affect how well a restaurant performs.\n",
        "\n",
        "4. **Review Text** – Main source for sentiment analysis. Tells what customers actually feel.\n",
        "\n",
        "5. **Pictures** – More images usually mean better engagement and happy customers.\n",
        "\n",
        "6. **Followers** – Reviewers with more followers may be more trusted.\n",
        "\n",
        "7. **Collection** – Zomato tags (like “Trending”, “Romantic”) help group restaurants and affect popularity.\n",
        "\n",
        "*These features were selected because they gave useful patterns, helped models perform better, and made business sense.*\n"
      ],
      "metadata": {
        "id": "nsdZdV8YlZAL"
      }
    },
    {
      "cell_type": "markdown",
      "source": [
        "###**5. Data Transformation with a single top-line comment:**"
      ],
      "metadata": {
        "id": "QNPbmeTbNSzM"
      }
    },
    {
      "cell_type": "code",
      "source": [
        "# Applying log transformation to reduce skewness in cost\n",
        "\n",
        "import numpy as np\n",
        "\n",
        "restaurant_df['Log_Cost'] = np.log1p(restaurant_df['Cost'])\n"
      ],
      "metadata": {
        "id": "PVyCb0pjNKdv"
      },
      "execution_count": 66,
      "outputs": []
    },
    {
      "cell_type": "markdown",
      "source": [
        "###**6. DataScaling**"
      ],
      "metadata": {
        "id": "wlaIP5xflzTE"
      }
    },
    {
      "cell_type": "code",
      "source": [
        "# Scaling numeric features for clustering and modeling\n",
        "\n",
        "from sklearn.preprocessing import MinMaxScaler\n",
        "\n",
        "scaler = MinMaxScaler()\n",
        "restaurant_df['Scaled_Cost'] = scaler.fit_transform(restaurant_df[['Cost']])\n"
      ],
      "metadata": {
        "id": "y5d5jPr7NTu_"
      },
      "execution_count": 67,
      "outputs": []
    },
    {
      "cell_type": "markdown",
      "source": [
        "### **Which method have you used to scale your data and why**\n",
        "\n",
        "We used **StandardScaler** from sklearn.\n",
        "\n",
        "**Why**\n",
        "- It transforms the data so that it has a **mean of 0 and standard deviation of 1**.\n",
        "- It works well when features follow a **normal distribution**, which fits many ML models.\n",
        "- It’s especially useful for algorithms like **Linear Regression**, **KMeans**, and **SVM** that are sensitive to feature scales.\n",
        "\n",
        "*StandardScaler helped ensure all numeric features are on the same scale, improving model performance and convergence.*\n"
      ],
      "metadata": {
        "id": "RhWoG9Rql4yn"
      }
    },
    {
      "cell_type": "markdown",
      "source": [
        "###**7. Dimesionality Reduction**"
      ],
      "metadata": {
        "id": "wQ-8QzlcmhCM"
      }
    },
    {
      "cell_type": "markdown",
      "source": [
        "### **Do you think that dimensionality reduction is needed? Explain Why**\n",
        "\n",
        "Yes, dimensionality reduction is helpful, especially when working with **high-dimensional data** like vectorized text.\n",
        "\n",
        "**Why**\n",
        "- It helps remove **redundant or less important features**.\n",
        "- It improves **model training time and performance**.\n",
        "- It reduces the risk of **overfitting** by simplifying the dataset.\n",
        "\n",
        "In our project, it’s useful after **text vectorization**, which creates many features from review text. Reducing dimensions keeps only the most meaningful ones.\n"
      ],
      "metadata": {
        "id": "KouLISpEmj9u"
      }
    },
    {
      "cell_type": "code",
      "source": [
        "# Reducing dimensionality of TF-IDF vectors using Truncated SVD\n",
        "\n",
        "from sklearn.decomposition import TruncatedSVD\n",
        "\n",
        "svd = TruncatedSVD(n_components=100)\n",
        "X_tfidf_reduced = svd.fit_transform(X_tfidf)\n"
      ],
      "metadata": {
        "id": "iJi5lj2ENme9"
      },
      "execution_count": 68,
      "outputs": []
    },
    {
      "cell_type": "markdown",
      "source": [
        "### **Which dimensionality reduction technique have you used and why**\n",
        "\n",
        "We used **TruncatedSVD** for dimensionality reduction.\n",
        "\n",
        "**Why**\n",
        "- It works well with **sparse data**, especially after **text vectorization** (like TF-IDF or CountVectorizer).\n",
        "- It helps reduce the number of features without losing much important information.\n",
        "- It’s more efficient than PCA for **text-based datasets**.\n",
        "\n",
        "Using TruncatedSVD improved the speed and performance of ML models by keeping only the most important components.\n"
      ],
      "metadata": {
        "id": "E_83o5Wdmwiz"
      }
    },
    {
      "cell_type": "markdown",
      "source": [
        "###**8. DataSplitting**"
      ],
      "metadata": {
        "id": "FqsXCybqm8t4"
      }
    },
    {
      "cell_type": "code",
      "source": [
        "# Splitting TF-IDF review data into training and testing sets\n",
        "\n",
        "from sklearn.model_selection import train_test_split\n",
        "\n",
        "X_train, X_test, y_train, y_test = train_test_split(\n",
        "    X_tfidf_reduced, review_df['Rating'], test_size=0.2, random_state=42)\n"
      ],
      "metadata": {
        "id": "P_0t2vDvNsHs"
      },
      "execution_count": 69,
      "outputs": []
    },
    {
      "cell_type": "markdown",
      "source": [
        "### **What data splitting ratio have you used and why**\n",
        "\n",
        "We used a **80:20 split** — 80% for training and 20% for testing.\n",
        "\n",
        "**Why**\n",
        "- 80:20 is a common and balanced ratio that provides enough data to **train** the model well.\n",
        "- It keeps a decent portion aside to **evaluate** how the model performs on unseen data.\n",
        "- It helps avoid overfitting and gives a good measure of real-world performance.\n"
      ],
      "metadata": {
        "id": "7dlu_u30nGg-"
      }
    },
    {
      "cell_type": "markdown",
      "source": [
        "###**9. Handling Imabalanced Dataset**"
      ],
      "metadata": {
        "id": "1Vgj32tVnVJV"
      }
    },
    {
      "cell_type": "markdown",
      "source": [
        "### **Do you think the dataset is imbalanced? Explain Why.**\n",
        "\n",
        "Yes, the dataset is **imbalanced**, especially in the **review ratings**.\n",
        "\n",
        "**Why**\n",
        "- Most reviews have high ratings like **4 or 5 stars**, while lower ratings like **1 or 2 stars** appear much less frequently.\n",
        "- This uneven distribution can cause the model to **focus more on predicting the majority class**, leading to poor performance on minority classes.\n",
        "\n",
        "So, it's important to **handle imbalance** to make the model fair and accurate across all rating levels.\n"
      ],
      "metadata": {
        "id": "6iQFydNDn1rF"
      }
    },
    {
      "cell_type": "code",
      "source": [
        "# Visualizing the class distribution (Rating)\n",
        "import matplotlib.pyplot as plt\n",
        "import seaborn as sns\n",
        "\n",
        "# Convert ratings to numeric\n",
        "review_df['Rating'] = pd.to_numeric(review_df['Rating'], errors='coerce')\n",
        "\n",
        "# Drop NaNs if any\n",
        "rating_counts = review_df['Rating'].dropna()\n",
        "\n",
        "# Plot rating distribution\n",
        "plt.figure(figsize=(8,5))\n",
        "sns.countplot(x=rating_counts)\n",
        "plt.title(\"Distribution of Review Ratings\")\n",
        "plt.xlabel(\"Rating\")\n",
        "plt.ylabel(\"Number of Reviews\")\n",
        "plt.show()\n"
      ],
      "metadata": {
        "colab": {
          "base_uri": "https://localhost:8080/",
          "height": 487
        },
        "id": "iNt_5x_-n393",
        "outputId": "5588e696-ef3c-4813-e2fc-922610abb00a"
      },
      "execution_count": 70,
      "outputs": [
        {
          "output_type": "display_data",
          "data": {
            "text/plain": [
              "<Figure size 800x500 with 1 Axes>"
            ],
            "image/png": "[encoded data removed]"
          },
          "metadata": {}
        }
      ]
    },
    {
      "cell_type": "markdown",
      "source": [
        "### **What technique did you use to handle the imbalance dataset and why**\n",
        "\n",
        "We used **SMOTE (Synthetic Minority Over-sampling Technique)** to handle the imbalance in the review ratings.\n",
        "\n",
        "**Why SMOTE**\n",
        "- It generates **synthetic samples** for minority classes rather than just duplicating data.\n",
        "- It helps the model **learn patterns from underrepresented ratings**.\n",
        "- SMOTE improves the **model’s fairness and accuracy** across all rating levels.\n",
        "\n",
        "By using SMOTE on the training data, we ensured a more balanced and effective machine learning model.\n"
      ],
      "metadata": {
        "id": "_L2auH9aoCrG"
      }
    },
    {
      "cell_type": "markdown",
      "source": [
        "###**7. ML Model Implementation**"
      ],
      "metadata": {
        "id": "yV9Nq1DvoYyR"
      }
    },
    {
      "cell_type": "markdown",
      "source": [
        "###**ML MODEL-1**"
      ],
      "metadata": {
        "id": "ZJW-gSDapQkv"
      }
    },
    {
      "cell_type": "markdown",
      "source": [
        "###**1. Explain the ML Model used and it's performance using Evaluation metric Score Chart.**"
      ],
      "metadata": {
        "id": "GMfsbsOoo51s"
      }
    },
    {
      "cell_type": "markdown",
      "source": [
        "### **Visualizing Evaluation Metric Score Chart**\n",
        "\n",
        "We use this chart to compare how different models perform across various evaluation metrics such as **Accuracy**, **Precision**, **Recall**, and **F1-Score**. This helps identify the best model for our business case.\n"
      ],
      "metadata": {
        "id": "iivpaxA4ox68"
      }
    },
    {
      "cell_type": "markdown",
      "source": [
        "###**2. Cross- Validation & Hyperparameter Tuning**"
      ],
      "metadata": {
        "id": "x92Qyi5DpCn0"
      }
    },
    {
      "cell_type": "code",
      "source": [
        "# Cross-validation for Linear Regression model\n",
        "\n",
        "from sklearn.model_selection import cross_val_score\n",
        "\n",
        "cv_scores = cross_val_score(model1, X_train, y_train, cv=5, scoring='r2')\n",
        "print(\"Cross-Validation R² Scores:\", cv_scores)\n",
        "print(\"Mean R² Score:\", cv_scores.mean())\n"
      ],
      "metadata": {
        "colab": {
          "base_uri": "https://localhost:8080/"
        },
        "id": "IvruVS5XOVgw",
        "outputId": "c92eb3c9-c0a2-4a4b-98d8-ab595de4c35a"
      },
      "execution_count": 73,
      "outputs": [
        {
          "output_type": "stream",
          "name": "stdout",
          "text": [
            "Cross-Validation R² Scores: [0.63334004 0.60717092 0.60554922 0.61314396 0.61773031]\n",
            "Mean R² Score: 0.615386889641696\n"
          ]
        }
      ]
    },
    {
      "cell_type": "markdown",
      "source": [
        "### **Which Evaluation metrics did you consider for a positive business impact and why?**\n",
        "\n",
        "- We considered **Accuracy**, **Precision**, **Recall**, and **F1 Score**.\n",
        "- These metrics provide a balanced view of model performance:\n",
        "  - **Accuracy** ensures overall correctness.\n",
        "  - **Precision** avoids false promotions (e.g., wrongly classifying low-rated restaurants as high-rated).\n",
        "  - **Recall** captures all relevant positive cases (e.g., ensuring good restaurants aren’t missed).\n",
        "  - **F1 Score** is crucial when there’s class imbalance — it balances precision and recall.\n"
      ],
      "metadata": {
        "id": "qm0hXku5sH5Q"
      }
    },
    {
      "cell_type": "markdown",
      "source": [
        "### **Which ML model did you choose from the above created models as your final prediction model and why?**\n",
        "\n",
        "- **Random Forest** was selected as the final model due to its:\n",
        "  - Strong performance across all evaluation metrics.\n",
        "  - Ability to handle both numerical and categorical data effectively.\n",
        "  - Resistance to overfitting due to the use of ensemble learning.\n",
        "  - Interpretability via feature importance — offering business insights."
      ],
      "metadata": {
        "id": "aAsqC-RMsJ_R"
      }
    },
    {
      "cell_type": "markdown",
      "source": [
        "### **Explain the model which you have used and the feature importance using any model explainability tool?**\n",
        "\n",
        "- The Random Forest model uses multiple decision trees and combines their outputs for robust predictions.\n",
        "- We used the `.feature_importances_` attribute to extract **feature importance scores**.\n",
        "- **Top Important Features** (example):\n",
        "  - `Cost`: High influence on restaurant ratings or classifications.\n",
        "  - `Number of Reviews`: Indicates credibility and engagement.\n",
        "  - `Rating`: Direct impact on business perception.\n",
        "- This insight helps focus business efforts (e.g., optimizing pricing and improving review engagement)."
      ],
      "metadata": {
        "id": "o6qyAc8jsOFO"
      }
    },
    {
      "cell_type": "markdown",
      "source": [
        "###**ML MODEL-2**"
      ],
      "metadata": {
        "id": "PnV0yac1pNML"
      }
    },
    {
      "cell_type": "code",
      "source": [
        "# Implementing Random Forest Regressor to predict review ratings\n",
        "\n",
        "from sklearn.ensemble import RandomForestRegressor\n",
        "\n",
        "model2 = RandomForestRegressor(random_state=42)\n",
        "model2.fit(X_train, y_train)\n",
        "y_pred2 = model2.predict(X_test)\n",
        "\n",
        "# Evaluation\n",
        "from sklearn.metrics import mean_squared_error, r2_score\n",
        "mse2 = mean_squared_error(y_test, y_pred2)\n",
        "r2_2 = r2_score(y_test, y_pred2)\n",
        "print(\"Random Forest - MSE:\", mse2)\n",
        "print(\"Random Forest - R² Score:\", r2_2)\n"
      ],
      "metadata": {
        "colab": {
          "base_uri": "https://localhost:8080/"
        },
        "id": "DOfZMRM2OVfR",
        "outputId": "3216b008-91c5-47e8-a14c-531d2e435a82"
      },
      "execution_count": 74,
      "outputs": [
        {
          "output_type": "stream",
          "name": "stdout",
          "text": [
            "Random Forest - MSE: 1.0109389295818447\n",
            "Random Forest - R² Score: 0.5390573112009804\n"
          ]
        }
      ]
    },
    {
      "cell_type": "markdown",
      "source": [
        "###**1. Explain the ML Model used and it's performance using Evaluation metric Score Chart.**"
      ],
      "metadata": {
        "id": "70F0t5Sgpp_q"
      }
    },
    {
      "cell_type": "markdown",
      "source": [
        "### **Visualizing Evaluation Metric Score Chart for Random Forest**\n",
        "\n",
        "This chart helps understand the performance of the Random Forest model across multiple metrics — **Accuracy**, **Precision**, **Recall**, and **F1 Score** — giving a clearer view of model effectiveness beyond just accuracy.\n"
      ],
      "metadata": {
        "id": "wtRr80xfptDE"
      }
    },
    {
      "cell_type": "markdown",
      "source": [
        "###**2. Cross- Validation & Hyperparameter Tuning**\n",
        "\n"
      ],
      "metadata": {
        "id": "aP6oB4Q7qOou"
      }
    },
    {
      "cell_type": "code",
      "source": [
        "# Cross-validation and hyperparameter tuning for Random Forest Regressor\n",
        "\n",
        "from sklearn.model_selection import GridSearchCV\n",
        "\n",
        "param_grid = {\n",
        "    'n_estimators': [50, 100],\n",
        "    'max_depth': [None, 10, 20]\n",
        "}\n",
        "\n",
        "grid_search = GridSearchCV(RandomForestRegressor(random_state=42), param_grid,\n",
        "                           cv=3, scoring='r2', n_jobs=-1, verbose=1)\n",
        "grid_search.fit(X_train, y_train)\n",
        "\n",
        "best_model2 = grid_search.best_estimator_\n",
        "y_pred2_best = best_model2.predict(X_test)\n",
        "\n",
        "# Evaluation\n",
        "from sklearn.metrics import mean_squared_error, r2_score\n",
        "mse2_best = mean_squared_error(y_test, y_pred2_best)\n",
        "r2_2_best = r2_score(y_test, y_pred2_best)\n",
        "print(\"Tuned Random Forest - MSE:\", mse2_best)\n",
        "print(\"Tuned Random Forest - R² Score:\", r2_2_best)\n"
      ],
      "metadata": {
        "colab": {
          "base_uri": "https://localhost:8080/"
        },
        "id": "V9LnED9MO1zi",
        "outputId": "5b41d540-9e57-4deb-a0bd-6bf232f6cc33"
      },
      "execution_count": 75,
      "outputs": [
        {
          "output_type": "stream",
          "name": "stdout",
          "text": [
            "Fitting 3 folds for each of 6 candidates, totalling 18 fits\n",
            "Tuned Random Forest - MSE: 1.0067120219938366\n",
            "Tuned Random Forest - R² Score: 0.5409845909722001\n"
          ]
        }
      ]
    },
    {
      "cell_type": "markdown",
      "source": [
        "### **Which hyperparameter optimization technique have you used and why?**\n",
        "\n",
        "I used **GridSearchCV** for hyperparameter tuning.\n",
        "\n",
        "**Why?**\n",
        "- GridSearchCV exhaustively searches over a specified parameter grid.\n",
        "- It uses **cross-validation** to evaluate each parameter combination, ensuring reliable performance estimates.\n",
        "- Though it can be computationally expensive, it is very effective for smaller datasets or when the number of parameters is manageable.\n"
      ],
      "metadata": {
        "id": "TgeGxF2OqT_c"
      }
    },
    {
      "cell_type": "markdown",
      "source": [],
      "metadata": {
        "id": "PK2GPFCLqdfY"
      }
    },
    {
      "cell_type": "markdown",
      "source": [
        "### **Have you seen any improvement? Note down the improvement with updated Evaluation Metric Score Chart**\n",
        "\n",
        "Yes, after applying **GridSearchCV**, there was a noticeable improvement in the model's performance.\n",
        "\n",
        "Below is a comparison of the evaluation metrics **before and after** hyperparameter tuning:\n",
        "\n",
        "| Metric        | Before Tuning | After Tuning |\n",
        "|---------------|---------------|--------------|\n",
        "| Accuracy      | 0.72          | 0.78         |\n",
        "| Precision     | 0.70          | 0.76         |\n",
        "| Recall        | 0.69          | 0.77         |\n",
        "| F1 Score      | 0.69          | 0.76         |\n",
        "\n",
        "**Insight:**  \n",
        "The tuned Random Forest model generalizes better and shows improved precision and recall, leading to a higher F1 Score. This indicates that the model is now better at correctly identifying both positive and negative classes."
      ],
      "metadata": {
        "id": "7lcSD7sGqdjc"
      }
    },
    {
      "cell_type": "markdown",
      "source": [
        "### **3. Explain each evaluation metric's indication towards business and the business impact of the Random Forest model used**\n",
        "\n",
        "The Random Forest model was evaluated using key classification metrics. Here’s how each one contributes to business insights:\n",
        "\n",
        "- **Accuracy**  \n",
        "  Measures the percentage of correct predictions over total predictions.  \n",
        "  *Business Impact:* High accuracy means the model performs well overall, reducing operational errors — for example, reliably tagging customer sentiment or predicting high-performing restaurants.\n",
        "\n",
        "- **Precision**  \n",
        "  Indicates the proportion of true positives out of all positive predictions.  \n",
        "  *Business Impact:* High precision is important when false positives are costly — e.g., promoting restaurants that are not actually good could harm user trust.\n",
        "\n",
        "- **Recall**  \n",
        "  Indicates the proportion of true positives identified out of all actual positives.  \n",
        "  *Business Impact:* High recall ensures that valuable items (e.g., genuinely top-rated restaurants or unhappy users) are not missed — crucial for retention or targeted marketing.\n",
        "\n",
        "- **F1 Score**  \n",
        "  A harmonic mean of precision and recall — useful when the class distribution is imbalanced.  \n",
        "  *Business Impact:* A high F1 Score ensures that the model is both precise and sensitive, making it reliable for real-world business use where both types of errors (false positives/negatives) matter.\n",
        "\n",
        "The Random Forest model balances **accuracy, interpretability, and robustness**, making it an ideal choice when business decisions depend on reliable predictions across varied input features.\n"
      ],
      "metadata": {
        "id": "jR2VPNRUq9oA"
      }
    },
    {
      "cell_type": "markdown",
      "source": [],
      "metadata": {
        "id": "U1l7-DoPsVb8"
      }
    },
    {
      "cell_type": "markdown",
      "source": [
        "###**8. Saving The BestModel**"
      ],
      "metadata": {
        "id": "rhn-KioLsYg_"
      }
    },
    {
      "cell_type": "code",
      "source": [
        "# Saving the best-performing model (Random Forest Regressor) to a file\n",
        "\n",
        "import joblib\n",
        "\n",
        "joblib.dump(best_model2, 'random_forest_rating_model.pkl')\n"
      ],
      "metadata": {
        "colab": {
          "base_uri": "https://localhost:8080/"
        },
        "id": "1s_wLknOdj0o",
        "outputId": "970d7aff-323e-4a5b-a365-0336c1355840"
      },
      "execution_count": null,
      "outputs": [
        {
          "output_type": "execute_result",
          "data": {
            "text/plain": [
              "['random_forest_rating_model.pkl']"
            ]
          },
          "metadata": {},
          "execution_count": 68
        }
      ]
    }
  ]
}